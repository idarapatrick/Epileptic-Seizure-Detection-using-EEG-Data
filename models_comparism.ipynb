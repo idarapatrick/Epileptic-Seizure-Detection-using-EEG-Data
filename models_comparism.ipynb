{
  "nbformat": 4,
  "nbformat_minor": 0,
  "metadata": {
    "colab": {
      "provenance": [],
      "authorship_tag": "ABX9TyNkBG+mYtUY5RsBqKWv24eI",
      "include_colab_link": true
    },
    "kernelspec": {
      "name": "python3",
      "display_name": "Python 3"
    },
    "language_info": {
      "name": "python"
    }
  },
  "cells": [
    {
      "cell_type": "markdown",
      "metadata": {
        "id": "view-in-github",
        "colab_type": "text"
      },
      "source": [
        "<a href=\"https://colab.research.google.com/github/idarapatrick/Epileptic-Seizure-Detection-using-EEG-Data/blob/main/models_comparism.ipynb\" target=\"_parent\"><img src=\"https://colab.research.google.com/assets/colab-badge.svg\" alt=\"Open In Colab\"/></a>"
      ]
    },
    {
      "cell_type": "markdown",
      "source": [
        "# Classical Models vs. Neural Network from Scratch\n",
        "## Name: Idara Patrick Essien\n",
        "\n",
        "#### Date: September 20, 2025\n",
        "\n",
        "\n"
      ],
      "metadata": {
        "id": "l5OBAHzsdNtX"
      }
    },
    {
      "cell_type": "markdown",
      "source": [
        "# Epileptic Seizure Detection using EEG Data\n",
        "This project involves the construction and evaluation of machine learning models for detecting epileptic seizures from EEG signals. The work utilizes the Bangalore EEG Epilepsy Dataset (BEED), a comprehensive set of EEG segments from both healthy subjects and patients with various seizure types.\n",
        "\n",
        "The central objective is a comparative study of two modeling strategies. First, classical machine learning classifiers, which are Logistic Regression and Random Forest, will be implemented and optimized using the scikit-learn library. Concurrently, a 3-layer feed-forward neural network will be built from scratch using only NumPy, which will provide insight into the fundamental mechanics of deep learning.\n",
        "\n",
        "Model performance will be assessed using metrics essential for medical diagnostics, including accuracy, precision, recall, and the F1-score. A particular focus will be placed on the clinical consequences of model errors."
      ],
      "metadata": {
        "id": "6oDQxVefdj1Z"
      }
    },
    {
      "cell_type": "code",
      "execution_count": null,
      "metadata": {
        "id": "xjVC_mg_dDhn"
      },
      "outputs": [],
      "source": [
        "# Core libraries for data manipulation and numerical operations\n",
        "import numpy as np\n",
        "import pandas as pd\n",
        "\n",
        "# Libraries for data visualization\n",
        "import matplotlib.pyplot as plt\n",
        "import seaborn as sns\n",
        "\n",
        "# Scikit-learn for classical models, preprocessing, and metrics\n",
        "from sklearn.model_selection import train_test_split\n",
        "from sklearn.preprocessing import StandardScaler\n",
        "from sklearn.linear_model import LogisticRegression\n",
        "from sklearn.ensemble import RandomForestClassifier\n",
        "from sklearn.metrics import accuracy_score, precision_score, recall_score, f1_score, confusion_matrix\n",
        "\n",
        "# Set visualization style\n",
        "sns.set(style=\"whitegrid\")"
      ]
    },
    {
      "cell_type": "markdown",
      "source": [
        "# Part 1: Dataset Selection, Loading, and Exploration\n",
        "## 1.1 Dataset Justification and Citation\n",
        "The BEED dataset was chosen for its direct application to a critical real-world health problem. Detecting epileptic seizures accurately and automatically can significantly improve patient care and diagnosis. This dataset provides a clean, balanced, and high-resolution basis for a meaningful classification task.\n",
        "\n",
        "**Source:** BEED: Bangalore EEG Epilepsy Dataset.\n",
        "\n",
        "**Citation:** N. . and N. BANU P K. \"BEED: Bangalore EEG Epilepsy Dataset ,\" UCI Machine Learning Repository, 2024. [Online]. Available: https://doi.org/10.24432/C5K33B.\n",
        "\n",
        "We will now load the data and perform an initial Exploratory Data Analysis (EDA) to understand its structure, distributions, and characteristics.\n"
      ],
      "metadata": {
        "id": "FMwWvusTfJj3"
      }
    },
    {
      "cell_type": "code",
      "source": [
        "# Load the Dataset\n",
        "\n",
        "try:\n",
        "    df = pd.read_csv(\"epilepsy.csv\")\n",
        "    print(\"Dataset loaded successfully!\")\n",
        "except FileNotFoundError:\n",
        "    print(\"Error: Dataset file not found. Please check the file path.\")"
      ],
      "metadata": {
        "colab": {
          "base_uri": "https://localhost:8080/"
        },
        "id": "ygyE8ZB2fAvl",
        "outputId": "e2fdb33c-444e-47fc-cd18-f8635f353bcc"
      },
      "execution_count": null,
      "outputs": [
        {
          "output_type": "stream",
          "name": "stdout",
          "text": [
            "Dataset loaded successfully!\n"
          ]
        }
      ]
    },
    {
      "cell_type": "markdown",
      "source": [
        "## 1.2 Exploratory Data Analysis (EDA)\n",
        "First, we'll get a high-level overview of the dataset. We'll use `.info()` to check for data types and null values, `.describe()` to get statistical summaries of the EEG features, and `.head()` to view the first few rows."
      ],
      "metadata": {
        "id": "JhRdMKqegVP1"
      }
    },
    {
      "cell_type": "code",
      "source": [
        "# Initial Data Inspection\n",
        "\n",
        "# Display the first 5 rows\n",
        "print(\"First 10 rows of the dataset:\")\n",
        "display(df.head(10))\n",
        "\n",
        "# Display concise summary (data types, non-null counts)\n",
        "print(\"\\nThe Dataset Info:\")\n",
        "df.info()\n",
        "\n",
        "# Display statistical summary\n",
        "print(\"\\nStatistical Summary:\")\n",
        "display(df.describe())"
      ],
      "metadata": {
        "colab": {
          "base_uri": "https://localhost:8080/",
          "height": 1000
        },
        "id": "Nd2U78adgMdp",
        "outputId": "ef327234-e623-4456-a72c-6f7afcd7401a"
      },
      "execution_count": null,
      "outputs": [
        {
          "output_type": "stream",
          "name": "stdout",
          "text": [
            "First 10 rows of the dataset:\n"
          ]
        },
        {
          "output_type": "display_data",
          "data": {
            "text/plain": [
              "    X1   X2   X3   X4   X5   X6   X7   X8   X9  X10  X11  X12  X13  X14  X15  \\\n",
              "0    4    7   18   25   28   27   20   10  -10  -18  -20  -16   13   32   12   \n",
              "1   87  114  120  106   76   54   28    5  -19  -49  -85 -102 -100  -89  -61   \n",
              "2 -131 -133 -140 -131 -123 -108  -58  -51  -70  -77  -76  -76  -73  -57  -40   \n",
              "3   68  104   73   34  -12  -26  -38  -36  -67  -88  -25   31   18   -4    6   \n",
              "4  -67  -90  -97  -94  -86  -71  -43  -11   23   46   58   50   39   19   -9   \n",
              "5  -47  -52  -45  -41  -29  -24  -21  -19  -13   -3   -2    4   11   14   11   \n",
              "6  -67  -30    7   33   51   79  105  122  132  115   83   42   10  -22  -47   \n",
              "7   72   60   67   69   55   46   30   23   31   40   51   54   65   69   60   \n",
              "8   56   14  -12  -38  -73 -115 -137 -130  -78  -18   33   85  132  196  244   \n",
              "9  -17  -16  -12   13   53   84   77   57   24  -20  -39  -45  -40  -35  -19   \n",
              "\n",
              "   X16  y  \n",
              "0   10  0  \n",
              "1  -21  0  \n",
              "2  -14  0  \n",
              "3  -29  0  \n",
              "4  -41  0  \n",
              "5   14  0  \n",
              "6  -57  0  \n",
              "7   50  0  \n",
              "8  258  0  \n",
              "9   -4  0  "
            ],
            "text/html": [
              "\n",
              "  <div id=\"df-0c8bd49a-2c66-4ee2-9857-57627b4830fd\" class=\"colab-df-container\">\n",
              "    <div>\n",
              "<style scoped>\n",
              "    .dataframe tbody tr th:only-of-type {\n",
              "        vertical-align: middle;\n",
              "    }\n",
              "\n",
              "    .dataframe tbody tr th {\n",
              "        vertical-align: top;\n",
              "    }\n",
              "\n",
              "    .dataframe thead th {\n",
              "        text-align: right;\n",
              "    }\n",
              "</style>\n",
              "<table border=\"1\" class=\"dataframe\">\n",
              "  <thead>\n",
              "    <tr style=\"text-align: right;\">\n",
              "      <th></th>\n",
              "      <th>X1</th>\n",
              "      <th>X2</th>\n",
              "      <th>X3</th>\n",
              "      <th>X4</th>\n",
              "      <th>X5</th>\n",
              "      <th>X6</th>\n",
              "      <th>X7</th>\n",
              "      <th>X8</th>\n",
              "      <th>X9</th>\n",
              "      <th>X10</th>\n",
              "      <th>X11</th>\n",
              "      <th>X12</th>\n",
              "      <th>X13</th>\n",
              "      <th>X14</th>\n",
              "      <th>X15</th>\n",
              "      <th>X16</th>\n",
              "      <th>y</th>\n",
              "    </tr>\n",
              "  </thead>\n",
              "  <tbody>\n",
              "    <tr>\n",
              "      <th>0</th>\n",
              "      <td>4</td>\n",
              "      <td>7</td>\n",
              "      <td>18</td>\n",
              "      <td>25</td>\n",
              "      <td>28</td>\n",
              "      <td>27</td>\n",
              "      <td>20</td>\n",
              "      <td>10</td>\n",
              "      <td>-10</td>\n",
              "      <td>-18</td>\n",
              "      <td>-20</td>\n",
              "      <td>-16</td>\n",
              "      <td>13</td>\n",
              "      <td>32</td>\n",
              "      <td>12</td>\n",
              "      <td>10</td>\n",
              "      <td>0</td>\n",
              "    </tr>\n",
              "    <tr>\n",
              "      <th>1</th>\n",
              "      <td>87</td>\n",
              "      <td>114</td>\n",
              "      <td>120</td>\n",
              "      <td>106</td>\n",
              "      <td>76</td>\n",
              "      <td>54</td>\n",
              "      <td>28</td>\n",
              "      <td>5</td>\n",
              "      <td>-19</td>\n",
              "      <td>-49</td>\n",
              "      <td>-85</td>\n",
              "      <td>-102</td>\n",
              "      <td>-100</td>\n",
              "      <td>-89</td>\n",
              "      <td>-61</td>\n",
              "      <td>-21</td>\n",
              "      <td>0</td>\n",
              "    </tr>\n",
              "    <tr>\n",
              "      <th>2</th>\n",
              "      <td>-131</td>\n",
              "      <td>-133</td>\n",
              "      <td>-140</td>\n",
              "      <td>-131</td>\n",
              "      <td>-123</td>\n",
              "      <td>-108</td>\n",
              "      <td>-58</td>\n",
              "      <td>-51</td>\n",
              "      <td>-70</td>\n",
              "      <td>-77</td>\n",
              "      <td>-76</td>\n",
              "      <td>-76</td>\n",
              "      <td>-73</td>\n",
              "      <td>-57</td>\n",
              "      <td>-40</td>\n",
              "      <td>-14</td>\n",
              "      <td>0</td>\n",
              "    </tr>\n",
              "    <tr>\n",
              "      <th>3</th>\n",
              "      <td>68</td>\n",
              "      <td>104</td>\n",
              "      <td>73</td>\n",
              "      <td>34</td>\n",
              "      <td>-12</td>\n",
              "      <td>-26</td>\n",
              "      <td>-38</td>\n",
              "      <td>-36</td>\n",
              "      <td>-67</td>\n",
              "      <td>-88</td>\n",
              "      <td>-25</td>\n",
              "      <td>31</td>\n",
              "      <td>18</td>\n",
              "      <td>-4</td>\n",
              "      <td>6</td>\n",
              "      <td>-29</td>\n",
              "      <td>0</td>\n",
              "    </tr>\n",
              "    <tr>\n",
              "      <th>4</th>\n",
              "      <td>-67</td>\n",
              "      <td>-90</td>\n",
              "      <td>-97</td>\n",
              "      <td>-94</td>\n",
              "      <td>-86</td>\n",
              "      <td>-71</td>\n",
              "      <td>-43</td>\n",
              "      <td>-11</td>\n",
              "      <td>23</td>\n",
              "      <td>46</td>\n",
              "      <td>58</td>\n",
              "      <td>50</td>\n",
              "      <td>39</td>\n",
              "      <td>19</td>\n",
              "      <td>-9</td>\n",
              "      <td>-41</td>\n",
              "      <td>0</td>\n",
              "    </tr>\n",
              "    <tr>\n",
              "      <th>5</th>\n",
              "      <td>-47</td>\n",
              "      <td>-52</td>\n",
              "      <td>-45</td>\n",
              "      <td>-41</td>\n",
              "      <td>-29</td>\n",
              "      <td>-24</td>\n",
              "      <td>-21</td>\n",
              "      <td>-19</td>\n",
              "      <td>-13</td>\n",
              "      <td>-3</td>\n",
              "      <td>-2</td>\n",
              "      <td>4</td>\n",
              "      <td>11</td>\n",
              "      <td>14</td>\n",
              "      <td>11</td>\n",
              "      <td>14</td>\n",
              "      <td>0</td>\n",
              "    </tr>\n",
              "    <tr>\n",
              "      <th>6</th>\n",
              "      <td>-67</td>\n",
              "      <td>-30</td>\n",
              "      <td>7</td>\n",
              "      <td>33</td>\n",
              "      <td>51</td>\n",
              "      <td>79</td>\n",
              "      <td>105</td>\n",
              "      <td>122</td>\n",
              "      <td>132</td>\n",
              "      <td>115</td>\n",
              "      <td>83</td>\n",
              "      <td>42</td>\n",
              "      <td>10</td>\n",
              "      <td>-22</td>\n",
              "      <td>-47</td>\n",
              "      <td>-57</td>\n",
              "      <td>0</td>\n",
              "    </tr>\n",
              "    <tr>\n",
              "      <th>7</th>\n",
              "      <td>72</td>\n",
              "      <td>60</td>\n",
              "      <td>67</td>\n",
              "      <td>69</td>\n",
              "      <td>55</td>\n",
              "      <td>46</td>\n",
              "      <td>30</td>\n",
              "      <td>23</td>\n",
              "      <td>31</td>\n",
              "      <td>40</td>\n",
              "      <td>51</td>\n",
              "      <td>54</td>\n",
              "      <td>65</td>\n",
              "      <td>69</td>\n",
              "      <td>60</td>\n",
              "      <td>50</td>\n",
              "      <td>0</td>\n",
              "    </tr>\n",
              "    <tr>\n",
              "      <th>8</th>\n",
              "      <td>56</td>\n",
              "      <td>14</td>\n",
              "      <td>-12</td>\n",
              "      <td>-38</td>\n",
              "      <td>-73</td>\n",
              "      <td>-115</td>\n",
              "      <td>-137</td>\n",
              "      <td>-130</td>\n",
              "      <td>-78</td>\n",
              "      <td>-18</td>\n",
              "      <td>33</td>\n",
              "      <td>85</td>\n",
              "      <td>132</td>\n",
              "      <td>196</td>\n",
              "      <td>244</td>\n",
              "      <td>258</td>\n",
              "      <td>0</td>\n",
              "    </tr>\n",
              "    <tr>\n",
              "      <th>9</th>\n",
              "      <td>-17</td>\n",
              "      <td>-16</td>\n",
              "      <td>-12</td>\n",
              "      <td>13</td>\n",
              "      <td>53</td>\n",
              "      <td>84</td>\n",
              "      <td>77</td>\n",
              "      <td>57</td>\n",
              "      <td>24</td>\n",
              "      <td>-20</td>\n",
              "      <td>-39</td>\n",
              "      <td>-45</td>\n",
              "      <td>-40</td>\n",
              "      <td>-35</td>\n",
              "      <td>-19</td>\n",
              "      <td>-4</td>\n",
              "      <td>0</td>\n",
              "    </tr>\n",
              "  </tbody>\n",
              "</table>\n",
              "</div>\n",
              "    <div class=\"colab-df-buttons\">\n",
              "\n",
              "  <div class=\"colab-df-container\">\n",
              "    <button class=\"colab-df-convert\" onclick=\"convertToInteractive('df-0c8bd49a-2c66-4ee2-9857-57627b4830fd')\"\n",
              "            title=\"Convert this dataframe to an interactive table.\"\n",
              "            style=\"display:none;\">\n",
              "\n",
              "  <svg xmlns=\"http://www.w3.org/2000/svg\" height=\"24px\" viewBox=\"0 -960 960 960\">\n",
              "    <path d=\"M120-120v-720h720v720H120Zm60-500h600v-160H180v160Zm220 220h160v-160H400v160Zm0 220h160v-160H400v160ZM180-400h160v-160H180v160Zm440 0h160v-160H620v160ZM180-180h160v-160H180v160Zm440 0h160v-160H620v160Z\"/>\n",
              "  </svg>\n",
              "    </button>\n",
              "\n",
              "  <style>\n",
              "    .colab-df-container {\n",
              "      display:flex;\n",
              "      gap: 12px;\n",
              "    }\n",
              "\n",
              "    .colab-df-convert {\n",
              "      background-color: #E8F0FE;\n",
              "      border: none;\n",
              "      border-radius: 50%;\n",
              "      cursor: pointer;\n",
              "      display: none;\n",
              "      fill: #1967D2;\n",
              "      height: 32px;\n",
              "      padding: 0 0 0 0;\n",
              "      width: 32px;\n",
              "    }\n",
              "\n",
              "    .colab-df-convert:hover {\n",
              "      background-color: #E2EBFA;\n",
              "      box-shadow: 0px 1px 2px rgba(60, 64, 67, 0.3), 0px 1px 3px 1px rgba(60, 64, 67, 0.15);\n",
              "      fill: #174EA6;\n",
              "    }\n",
              "\n",
              "    .colab-df-buttons div {\n",
              "      margin-bottom: 4px;\n",
              "    }\n",
              "\n",
              "    [theme=dark] .colab-df-convert {\n",
              "      background-color: #3B4455;\n",
              "      fill: #D2E3FC;\n",
              "    }\n",
              "\n",
              "    [theme=dark] .colab-df-convert:hover {\n",
              "      background-color: #434B5C;\n",
              "      box-shadow: 0px 1px 3px 1px rgba(0, 0, 0, 0.15);\n",
              "      filter: drop-shadow(0px 1px 2px rgba(0, 0, 0, 0.3));\n",
              "      fill: #FFFFFF;\n",
              "    }\n",
              "  </style>\n",
              "\n",
              "    <script>\n",
              "      const buttonEl =\n",
              "        document.querySelector('#df-0c8bd49a-2c66-4ee2-9857-57627b4830fd button.colab-df-convert');\n",
              "      buttonEl.style.display =\n",
              "        google.colab.kernel.accessAllowed ? 'block' : 'none';\n",
              "\n",
              "      async function convertToInteractive(key) {\n",
              "        const element = document.querySelector('#df-0c8bd49a-2c66-4ee2-9857-57627b4830fd');\n",
              "        const dataTable =\n",
              "          await google.colab.kernel.invokeFunction('convertToInteractive',\n",
              "                                                    [key], {});\n",
              "        if (!dataTable) return;\n",
              "\n",
              "        const docLinkHtml = 'Like what you see? Visit the ' +\n",
              "          '<a target=\"_blank\" href=https://colab.research.google.com/notebooks/data_table.ipynb>data table notebook</a>'\n",
              "          + ' to learn more about interactive tables.';\n",
              "        element.innerHTML = '';\n",
              "        dataTable['output_type'] = 'display_data';\n",
              "        await google.colab.output.renderOutput(dataTable, element);\n",
              "        const docLink = document.createElement('div');\n",
              "        docLink.innerHTML = docLinkHtml;\n",
              "        element.appendChild(docLink);\n",
              "      }\n",
              "    </script>\n",
              "  </div>\n",
              "\n",
              "\n",
              "    <div id=\"df-2ca6f49f-558e-4145-bb78-660c6000e092\">\n",
              "      <button class=\"colab-df-quickchart\" onclick=\"quickchart('df-2ca6f49f-558e-4145-bb78-660c6000e092')\"\n",
              "                title=\"Suggest charts\"\n",
              "                style=\"display:none;\">\n",
              "\n",
              "<svg xmlns=\"http://www.w3.org/2000/svg\" height=\"24px\"viewBox=\"0 0 24 24\"\n",
              "     width=\"24px\">\n",
              "    <g>\n",
              "        <path d=\"M19 3H5c-1.1 0-2 .9-2 2v14c0 1.1.9 2 2 2h14c1.1 0 2-.9 2-2V5c0-1.1-.9-2-2-2zM9 17H7v-7h2v7zm4 0h-2V7h2v10zm4 0h-2v-4h2v4z\"/>\n",
              "    </g>\n",
              "</svg>\n",
              "      </button>\n",
              "\n",
              "<style>\n",
              "  .colab-df-quickchart {\n",
              "      --bg-color: #E8F0FE;\n",
              "      --fill-color: #1967D2;\n",
              "      --hover-bg-color: #E2EBFA;\n",
              "      --hover-fill-color: #174EA6;\n",
              "      --disabled-fill-color: #AAA;\n",
              "      --disabled-bg-color: #DDD;\n",
              "  }\n",
              "\n",
              "  [theme=dark] .colab-df-quickchart {\n",
              "      --bg-color: #3B4455;\n",
              "      --fill-color: #D2E3FC;\n",
              "      --hover-bg-color: #434B5C;\n",
              "      --hover-fill-color: #FFFFFF;\n",
              "      --disabled-bg-color: #3B4455;\n",
              "      --disabled-fill-color: #666;\n",
              "  }\n",
              "\n",
              "  .colab-df-quickchart {\n",
              "    background-color: var(--bg-color);\n",
              "    border: none;\n",
              "    border-radius: 50%;\n",
              "    cursor: pointer;\n",
              "    display: none;\n",
              "    fill: var(--fill-color);\n",
              "    height: 32px;\n",
              "    padding: 0;\n",
              "    width: 32px;\n",
              "  }\n",
              "\n",
              "  .colab-df-quickchart:hover {\n",
              "    background-color: var(--hover-bg-color);\n",
              "    box-shadow: 0 1px 2px rgba(60, 64, 67, 0.3), 0 1px 3px 1px rgba(60, 64, 67, 0.15);\n",
              "    fill: var(--button-hover-fill-color);\n",
              "  }\n",
              "\n",
              "  .colab-df-quickchart-complete:disabled,\n",
              "  .colab-df-quickchart-complete:disabled:hover {\n",
              "    background-color: var(--disabled-bg-color);\n",
              "    fill: var(--disabled-fill-color);\n",
              "    box-shadow: none;\n",
              "  }\n",
              "\n",
              "  .colab-df-spinner {\n",
              "    border: 2px solid var(--fill-color);\n",
              "    border-color: transparent;\n",
              "    border-bottom-color: var(--fill-color);\n",
              "    animation:\n",
              "      spin 1s steps(1) infinite;\n",
              "  }\n",
              "\n",
              "  @keyframes spin {\n",
              "    0% {\n",
              "      border-color: transparent;\n",
              "      border-bottom-color: var(--fill-color);\n",
              "      border-left-color: var(--fill-color);\n",
              "    }\n",
              "    20% {\n",
              "      border-color: transparent;\n",
              "      border-left-color: var(--fill-color);\n",
              "      border-top-color: var(--fill-color);\n",
              "    }\n",
              "    30% {\n",
              "      border-color: transparent;\n",
              "      border-left-color: var(--fill-color);\n",
              "      border-top-color: var(--fill-color);\n",
              "      border-right-color: var(--fill-color);\n",
              "    }\n",
              "    40% {\n",
              "      border-color: transparent;\n",
              "      border-right-color: var(--fill-color);\n",
              "      border-top-color: var(--fill-color);\n",
              "    }\n",
              "    60% {\n",
              "      border-color: transparent;\n",
              "      border-right-color: var(--fill-color);\n",
              "    }\n",
              "    80% {\n",
              "      border-color: transparent;\n",
              "      border-right-color: var(--fill-color);\n",
              "      border-bottom-color: var(--fill-color);\n",
              "    }\n",
              "    90% {\n",
              "      border-color: transparent;\n",
              "      border-bottom-color: var(--fill-color);\n",
              "    }\n",
              "  }\n",
              "</style>\n",
              "\n",
              "      <script>\n",
              "        async function quickchart(key) {\n",
              "          const quickchartButtonEl =\n",
              "            document.querySelector('#' + key + ' button');\n",
              "          quickchartButtonEl.disabled = true;  // To prevent multiple clicks.\n",
              "          quickchartButtonEl.classList.add('colab-df-spinner');\n",
              "          try {\n",
              "            const charts = await google.colab.kernel.invokeFunction(\n",
              "                'suggestCharts', [key], {});\n",
              "          } catch (error) {\n",
              "            console.error('Error during call to suggestCharts:', error);\n",
              "          }\n",
              "          quickchartButtonEl.classList.remove('colab-df-spinner');\n",
              "          quickchartButtonEl.classList.add('colab-df-quickchart-complete');\n",
              "        }\n",
              "        (() => {\n",
              "          let quickchartButtonEl =\n",
              "            document.querySelector('#df-2ca6f49f-558e-4145-bb78-660c6000e092 button');\n",
              "          quickchartButtonEl.style.display =\n",
              "            google.colab.kernel.accessAllowed ? 'block' : 'none';\n",
              "        })();\n",
              "      </script>\n",
              "    </div>\n",
              "\n",
              "    </div>\n",
              "  </div>\n"
            ],
            "application/vnd.google.colaboratory.intrinsic+json": {
              "type": "dataframe",
              "summary": "{\n  \"name\": \"display(df\",\n  \"rows\": 10,\n  \"fields\": [\n    {\n      \"column\": \"X1\",\n      \"properties\": {\n        \"dtype\": \"number\",\n        \"std\": 73,\n        \"min\": -131,\n        \"max\": 87,\n        \"num_unique_values\": 9,\n        \"samples\": [\n          56,\n          87,\n          -47\n        ],\n        \"semantic_type\": \"\",\n        \"description\": \"\"\n      }\n    },\n    {\n      \"column\": \"X2\",\n      \"properties\": {\n        \"dtype\": \"number\",\n        \"std\": 79,\n        \"min\": -133,\n        \"max\": 114,\n        \"num_unique_values\": 10,\n        \"samples\": [\n          14,\n          114,\n          -52\n        ],\n        \"semantic_type\": \"\",\n        \"description\": \"\"\n      }\n    },\n    {\n      \"column\": \"X3\",\n      \"properties\": {\n        \"dtype\": \"number\",\n        \"std\": 78,\n        \"min\": -140,\n        \"max\": 120,\n        \"num_unique_values\": 9,\n        \"samples\": [\n          67,\n          120,\n          -45\n        ],\n        \"semantic_type\": \"\",\n        \"description\": \"\"\n      }\n    },\n    {\n      \"column\": \"X4\",\n      \"properties\": {\n        \"dtype\": \"number\",\n        \"std\": 73,\n        \"min\": -131,\n        \"max\": 106,\n        \"num_unique_values\": 10,\n        \"samples\": [\n          -38,\n          106,\n          -41\n        ],\n        \"semantic_type\": \"\",\n        \"description\": \"\"\n      }\n    },\n    {\n      \"column\": \"X5\",\n      \"properties\": {\n        \"dtype\": \"number\",\n        \"std\": 69,\n        \"min\": -123,\n        \"max\": 76,\n        \"num_unique_values\": 10,\n        \"samples\": [\n          -73,\n          76,\n          -29\n        ],\n        \"semantic_type\": \"\",\n        \"description\": \"\"\n      }\n    },\n    {\n      \"column\": \"X6\",\n      \"properties\": {\n        \"dtype\": \"number\",\n        \"std\": 74,\n        \"min\": -115,\n        \"max\": 84,\n        \"num_unique_values\": 10,\n        \"samples\": [\n          -115,\n          54,\n          -24\n        ],\n        \"semantic_type\": \"\",\n        \"description\": \"\"\n      }\n    },\n    {\n      \"column\": \"X7\",\n      \"properties\": {\n        \"dtype\": \"number\",\n        \"std\": 70,\n        \"min\": -137,\n        \"max\": 105,\n        \"num_unique_values\": 10,\n        \"samples\": [\n          -137,\n          28,\n          -21\n        ],\n        \"semantic_type\": \"\",\n        \"description\": \"\"\n      }\n    },\n    {\n      \"column\": \"X8\",\n      \"properties\": {\n        \"dtype\": \"number\",\n        \"std\": 66,\n        \"min\": -130,\n        \"max\": 122,\n        \"num_unique_values\": 10,\n        \"samples\": [\n          -130,\n          5,\n          -19\n        ],\n        \"semantic_type\": \"\",\n        \"description\": \"\"\n      }\n    },\n    {\n      \"column\": \"X9\",\n      \"properties\": {\n        \"dtype\": \"number\",\n        \"std\": 62,\n        \"min\": -78,\n        \"max\": 132,\n        \"num_unique_values\": 10,\n        \"samples\": [\n          -78,\n          -19,\n          -13\n        ],\n        \"semantic_type\": \"\",\n        \"description\": \"\"\n      }\n    },\n    {\n      \"column\": \"X10\",\n      \"properties\": {\n        \"dtype\": \"number\",\n        \"std\": 61,\n        \"min\": -88,\n        \"max\": 115,\n        \"num_unique_values\": 9,\n        \"samples\": [\n          40,\n          -49,\n          -3\n        ],\n        \"semantic_type\": \"\",\n        \"description\": \"\"\n      }\n    },\n    {\n      \"column\": \"X11\",\n      \"properties\": {\n        \"dtype\": \"number\",\n        \"std\": 57,\n        \"min\": -85,\n        \"max\": 83,\n        \"num_unique_values\": 10,\n        \"samples\": [\n          33,\n          -85,\n          -2\n        ],\n        \"semantic_type\": \"\",\n        \"description\": \"\"\n      }\n    },\n    {\n      \"column\": \"X12\",\n      \"properties\": {\n        \"dtype\": \"number\",\n        \"std\": 61,\n        \"min\": -102,\n        \"max\": 85,\n        \"num_unique_values\": 10,\n        \"samples\": [\n          85,\n          -102,\n          4\n        ],\n        \"semantic_type\": \"\",\n        \"description\": \"\"\n      }\n    },\n    {\n      \"column\": \"X13\",\n      \"properties\": {\n        \"dtype\": \"number\",\n        \"std\": 66,\n        \"min\": -100,\n        \"max\": 132,\n        \"num_unique_values\": 10,\n        \"samples\": [\n          132,\n          -100,\n          11\n        ],\n        \"semantic_type\": \"\",\n        \"description\": \"\"\n      }\n    },\n    {\n      \"column\": \"X14\",\n      \"properties\": {\n        \"dtype\": \"number\",\n        \"std\": 78,\n        \"min\": -89,\n        \"max\": 196,\n        \"num_unique_values\": 10,\n        \"samples\": [\n          196,\n          -89,\n          14\n        ],\n        \"semantic_type\": \"\",\n        \"description\": \"\"\n      }\n    },\n    {\n      \"column\": \"X15\",\n      \"properties\": {\n        \"dtype\": \"number\",\n        \"std\": 87,\n        \"min\": -61,\n        \"max\": 244,\n        \"num_unique_values\": 10,\n        \"samples\": [\n          244,\n          -61,\n          11\n        ],\n        \"semantic_type\": \"\",\n        \"description\": \"\"\n      }\n    },\n    {\n      \"column\": \"X16\",\n      \"properties\": {\n        \"dtype\": \"number\",\n        \"std\": 90,\n        \"min\": -57,\n        \"max\": 258,\n        \"num_unique_values\": 10,\n        \"samples\": [\n          258,\n          -21,\n          14\n        ],\n        \"semantic_type\": \"\",\n        \"description\": \"\"\n      }\n    },\n    {\n      \"column\": \"y\",\n      \"properties\": {\n        \"dtype\": \"number\",\n        \"std\": 0,\n        \"min\": 0,\n        \"max\": 0,\n        \"num_unique_values\": 1,\n        \"samples\": [\n          0\n        ],\n        \"semantic_type\": \"\",\n        \"description\": \"\"\n      }\n    }\n  ]\n}"
            }
          },
          "metadata": {}
        },
        {
          "output_type": "stream",
          "name": "stdout",
          "text": [
            "\n",
            "The Dataset Info:\n",
            "<class 'pandas.core.frame.DataFrame'>\n",
            "RangeIndex: 8000 entries, 0 to 7999\n",
            "Data columns (total 17 columns):\n",
            " #   Column  Non-Null Count  Dtype\n",
            "---  ------  --------------  -----\n",
            " 0   X1      8000 non-null   int64\n",
            " 1   X2      8000 non-null   int64\n",
            " 2   X3      8000 non-null   int64\n",
            " 3   X4      8000 non-null   int64\n",
            " 4   X5      8000 non-null   int64\n",
            " 5   X6      8000 non-null   int64\n",
            " 6   X7      8000 non-null   int64\n",
            " 7   X8      8000 non-null   int64\n",
            " 8   X9      8000 non-null   int64\n",
            " 9   X10     8000 non-null   int64\n",
            " 10  X11     8000 non-null   int64\n",
            " 11  X12     8000 non-null   int64\n",
            " 12  X13     8000 non-null   int64\n",
            " 13  X14     8000 non-null   int64\n",
            " 14  X15     8000 non-null   int64\n",
            " 15  X16     8000 non-null   int64\n",
            " 16  y       8000 non-null   int64\n",
            "dtypes: int64(17)\n",
            "memory usage: 1.0 MB\n",
            "\n",
            "Statistical Summary:\n"
          ]
        },
        {
          "output_type": "display_data",
          "data": {
            "text/plain": [
              "                X1           X2          X3           X4           X5  \\\n",
              "count  8000.000000  8000.000000  8000.00000  8000.000000  8000.000000   \n",
              "mean     -1.490375    -2.189375    -3.23750    -4.119375    -1.821625   \n",
              "std      36.824213    36.108088    35.80249    36.285268    37.621284   \n",
              "min    -281.000000  -255.000000  -255.00000  -257.000000  -264.000000   \n",
              "25%      -7.000000    -7.000000    -7.00000   -10.000000   -10.000000   \n",
              "50%       0.000000     0.000000    -1.00000    -1.000000     0.000000   \n",
              "75%       8.000000     8.000000     5.00000     7.000000    10.000000   \n",
              "max     252.000000   261.000000   238.00000   246.000000   249.000000   \n",
              "\n",
              "                X6           X7           X8           X9         X10  \\\n",
              "count  8000.000000  8000.000000  8000.000000  8000.000000  8000.00000   \n",
              "mean     -2.311750    -3.398125    -3.448625    -1.647875    -2.56125   \n",
              "std      36.306006    36.358395    36.522214    38.107721    37.54068   \n",
              "min    -277.000000  -277.000000  -260.000000  -290.000000  -302.00000   \n",
              "25%      -8.000000    -8.000000    -7.000000    -7.000000    -8.00000   \n",
              "50%       0.000000    -1.000000    -1.000000     0.000000     0.00000   \n",
              "75%       8.000000     6.000000     5.000000     8.000000     8.00000   \n",
              "max     245.000000   220.000000   271.000000   280.000000   251.00000   \n",
              "\n",
              "               X11          X12          X13          X14          X15  \\\n",
              "count  8000.000000  8000.000000  8000.000000  8000.000000  8000.000000   \n",
              "mean     -3.524500    -4.782750    -2.164000    -2.910875    -4.355375   \n",
              "std      37.343938    37.469582    38.144075    36.640555    36.242793   \n",
              "min    -276.000000  -306.000000  -288.000000  -290.000000  -323.000000   \n",
              "25%      -8.000000   -11.000000   -10.000000    -8.000000    -9.000000   \n",
              "50%      -1.000000    -2.000000     0.000000     0.000000    -2.000000   \n",
              "75%       5.000000     7.000000    10.000000     9.000000     5.000000   \n",
              "max     262.000000   283.000000   296.000000   291.000000   251.000000   \n",
              "\n",
              "               X16            y  \n",
              "count  8000.000000  8000.000000  \n",
              "mean     -4.113750     1.500000  \n",
              "std      35.933601     1.118104  \n",
              "min    -317.000000     0.000000  \n",
              "25%      -6.000000     0.750000  \n",
              "50%      -1.000000     1.500000  \n",
              "75%       4.000000     2.250000  \n",
              "max     270.000000     3.000000  "
            ],
            "text/html": [
              "\n",
              "  <div id=\"df-9b9e5e0d-54a3-45a0-8b5a-f185700e2076\" class=\"colab-df-container\">\n",
              "    <div>\n",
              "<style scoped>\n",
              "    .dataframe tbody tr th:only-of-type {\n",
              "        vertical-align: middle;\n",
              "    }\n",
              "\n",
              "    .dataframe tbody tr th {\n",
              "        vertical-align: top;\n",
              "    }\n",
              "\n",
              "    .dataframe thead th {\n",
              "        text-align: right;\n",
              "    }\n",
              "</style>\n",
              "<table border=\"1\" class=\"dataframe\">\n",
              "  <thead>\n",
              "    <tr style=\"text-align: right;\">\n",
              "      <th></th>\n",
              "      <th>X1</th>\n",
              "      <th>X2</th>\n",
              "      <th>X3</th>\n",
              "      <th>X4</th>\n",
              "      <th>X5</th>\n",
              "      <th>X6</th>\n",
              "      <th>X7</th>\n",
              "      <th>X8</th>\n",
              "      <th>X9</th>\n",
              "      <th>X10</th>\n",
              "      <th>X11</th>\n",
              "      <th>X12</th>\n",
              "      <th>X13</th>\n",
              "      <th>X14</th>\n",
              "      <th>X15</th>\n",
              "      <th>X16</th>\n",
              "      <th>y</th>\n",
              "    </tr>\n",
              "  </thead>\n",
              "  <tbody>\n",
              "    <tr>\n",
              "      <th>count</th>\n",
              "      <td>8000.000000</td>\n",
              "      <td>8000.000000</td>\n",
              "      <td>8000.00000</td>\n",
              "      <td>8000.000000</td>\n",
              "      <td>8000.000000</td>\n",
              "      <td>8000.000000</td>\n",
              "      <td>8000.000000</td>\n",
              "      <td>8000.000000</td>\n",
              "      <td>8000.000000</td>\n",
              "      <td>8000.00000</td>\n",
              "      <td>8000.000000</td>\n",
              "      <td>8000.000000</td>\n",
              "      <td>8000.000000</td>\n",
              "      <td>8000.000000</td>\n",
              "      <td>8000.000000</td>\n",
              "      <td>8000.000000</td>\n",
              "      <td>8000.000000</td>\n",
              "    </tr>\n",
              "    <tr>\n",
              "      <th>mean</th>\n",
              "      <td>-1.490375</td>\n",
              "      <td>-2.189375</td>\n",
              "      <td>-3.23750</td>\n",
              "      <td>-4.119375</td>\n",
              "      <td>-1.821625</td>\n",
              "      <td>-2.311750</td>\n",
              "      <td>-3.398125</td>\n",
              "      <td>-3.448625</td>\n",
              "      <td>-1.647875</td>\n",
              "      <td>-2.56125</td>\n",
              "      <td>-3.524500</td>\n",
              "      <td>-4.782750</td>\n",
              "      <td>-2.164000</td>\n",
              "      <td>-2.910875</td>\n",
              "      <td>-4.355375</td>\n",
              "      <td>-4.113750</td>\n",
              "      <td>1.500000</td>\n",
              "    </tr>\n",
              "    <tr>\n",
              "      <th>std</th>\n",
              "      <td>36.824213</td>\n",
              "      <td>36.108088</td>\n",
              "      <td>35.80249</td>\n",
              "      <td>36.285268</td>\n",
              "      <td>37.621284</td>\n",
              "      <td>36.306006</td>\n",
              "      <td>36.358395</td>\n",
              "      <td>36.522214</td>\n",
              "      <td>38.107721</td>\n",
              "      <td>37.54068</td>\n",
              "      <td>37.343938</td>\n",
              "      <td>37.469582</td>\n",
              "      <td>38.144075</td>\n",
              "      <td>36.640555</td>\n",
              "      <td>36.242793</td>\n",
              "      <td>35.933601</td>\n",
              "      <td>1.118104</td>\n",
              "    </tr>\n",
              "    <tr>\n",
              "      <th>min</th>\n",
              "      <td>-281.000000</td>\n",
              "      <td>-255.000000</td>\n",
              "      <td>-255.00000</td>\n",
              "      <td>-257.000000</td>\n",
              "      <td>-264.000000</td>\n",
              "      <td>-277.000000</td>\n",
              "      <td>-277.000000</td>\n",
              "      <td>-260.000000</td>\n",
              "      <td>-290.000000</td>\n",
              "      <td>-302.00000</td>\n",
              "      <td>-276.000000</td>\n",
              "      <td>-306.000000</td>\n",
              "      <td>-288.000000</td>\n",
              "      <td>-290.000000</td>\n",
              "      <td>-323.000000</td>\n",
              "      <td>-317.000000</td>\n",
              "      <td>0.000000</td>\n",
              "    </tr>\n",
              "    <tr>\n",
              "      <th>25%</th>\n",
              "      <td>-7.000000</td>\n",
              "      <td>-7.000000</td>\n",
              "      <td>-7.00000</td>\n",
              "      <td>-10.000000</td>\n",
              "      <td>-10.000000</td>\n",
              "      <td>-8.000000</td>\n",
              "      <td>-8.000000</td>\n",
              "      <td>-7.000000</td>\n",
              "      <td>-7.000000</td>\n",
              "      <td>-8.00000</td>\n",
              "      <td>-8.000000</td>\n",
              "      <td>-11.000000</td>\n",
              "      <td>-10.000000</td>\n",
              "      <td>-8.000000</td>\n",
              "      <td>-9.000000</td>\n",
              "      <td>-6.000000</td>\n",
              "      <td>0.750000</td>\n",
              "    </tr>\n",
              "    <tr>\n",
              "      <th>50%</th>\n",
              "      <td>0.000000</td>\n",
              "      <td>0.000000</td>\n",
              "      <td>-1.00000</td>\n",
              "      <td>-1.000000</td>\n",
              "      <td>0.000000</td>\n",
              "      <td>0.000000</td>\n",
              "      <td>-1.000000</td>\n",
              "      <td>-1.000000</td>\n",
              "      <td>0.000000</td>\n",
              "      <td>0.00000</td>\n",
              "      <td>-1.000000</td>\n",
              "      <td>-2.000000</td>\n",
              "      <td>0.000000</td>\n",
              "      <td>0.000000</td>\n",
              "      <td>-2.000000</td>\n",
              "      <td>-1.000000</td>\n",
              "      <td>1.500000</td>\n",
              "    </tr>\n",
              "    <tr>\n",
              "      <th>75%</th>\n",
              "      <td>8.000000</td>\n",
              "      <td>8.000000</td>\n",
              "      <td>5.00000</td>\n",
              "      <td>7.000000</td>\n",
              "      <td>10.000000</td>\n",
              "      <td>8.000000</td>\n",
              "      <td>6.000000</td>\n",
              "      <td>5.000000</td>\n",
              "      <td>8.000000</td>\n",
              "      <td>8.00000</td>\n",
              "      <td>5.000000</td>\n",
              "      <td>7.000000</td>\n",
              "      <td>10.000000</td>\n",
              "      <td>9.000000</td>\n",
              "      <td>5.000000</td>\n",
              "      <td>4.000000</td>\n",
              "      <td>2.250000</td>\n",
              "    </tr>\n",
              "    <tr>\n",
              "      <th>max</th>\n",
              "      <td>252.000000</td>\n",
              "      <td>261.000000</td>\n",
              "      <td>238.00000</td>\n",
              "      <td>246.000000</td>\n",
              "      <td>249.000000</td>\n",
              "      <td>245.000000</td>\n",
              "      <td>220.000000</td>\n",
              "      <td>271.000000</td>\n",
              "      <td>280.000000</td>\n",
              "      <td>251.00000</td>\n",
              "      <td>262.000000</td>\n",
              "      <td>283.000000</td>\n",
              "      <td>296.000000</td>\n",
              "      <td>291.000000</td>\n",
              "      <td>251.000000</td>\n",
              "      <td>270.000000</td>\n",
              "      <td>3.000000</td>\n",
              "    </tr>\n",
              "  </tbody>\n",
              "</table>\n",
              "</div>\n",
              "    <div class=\"colab-df-buttons\">\n",
              "\n",
              "  <div class=\"colab-df-container\">\n",
              "    <button class=\"colab-df-convert\" onclick=\"convertToInteractive('df-9b9e5e0d-54a3-45a0-8b5a-f185700e2076')\"\n",
              "            title=\"Convert this dataframe to an interactive table.\"\n",
              "            style=\"display:none;\">\n",
              "\n",
              "  <svg xmlns=\"http://www.w3.org/2000/svg\" height=\"24px\" viewBox=\"0 -960 960 960\">\n",
              "    <path d=\"M120-120v-720h720v720H120Zm60-500h600v-160H180v160Zm220 220h160v-160H400v160Zm0 220h160v-160H400v160ZM180-400h160v-160H180v160Zm440 0h160v-160H620v160ZM180-180h160v-160H180v160Zm440 0h160v-160H620v160Z\"/>\n",
              "  </svg>\n",
              "    </button>\n",
              "\n",
              "  <style>\n",
              "    .colab-df-container {\n",
              "      display:flex;\n",
              "      gap: 12px;\n",
              "    }\n",
              "\n",
              "    .colab-df-convert {\n",
              "      background-color: #E8F0FE;\n",
              "      border: none;\n",
              "      border-radius: 50%;\n",
              "      cursor: pointer;\n",
              "      display: none;\n",
              "      fill: #1967D2;\n",
              "      height: 32px;\n",
              "      padding: 0 0 0 0;\n",
              "      width: 32px;\n",
              "    }\n",
              "\n",
              "    .colab-df-convert:hover {\n",
              "      background-color: #E2EBFA;\n",
              "      box-shadow: 0px 1px 2px rgba(60, 64, 67, 0.3), 0px 1px 3px 1px rgba(60, 64, 67, 0.15);\n",
              "      fill: #174EA6;\n",
              "    }\n",
              "\n",
              "    .colab-df-buttons div {\n",
              "      margin-bottom: 4px;\n",
              "    }\n",
              "\n",
              "    [theme=dark] .colab-df-convert {\n",
              "      background-color: #3B4455;\n",
              "      fill: #D2E3FC;\n",
              "    }\n",
              "\n",
              "    [theme=dark] .colab-df-convert:hover {\n",
              "      background-color: #434B5C;\n",
              "      box-shadow: 0px 1px 3px 1px rgba(0, 0, 0, 0.15);\n",
              "      filter: drop-shadow(0px 1px 2px rgba(0, 0, 0, 0.3));\n",
              "      fill: #FFFFFF;\n",
              "    }\n",
              "  </style>\n",
              "\n",
              "    <script>\n",
              "      const buttonEl =\n",
              "        document.querySelector('#df-9b9e5e0d-54a3-45a0-8b5a-f185700e2076 button.colab-df-convert');\n",
              "      buttonEl.style.display =\n",
              "        google.colab.kernel.accessAllowed ? 'block' : 'none';\n",
              "\n",
              "      async function convertToInteractive(key) {\n",
              "        const element = document.querySelector('#df-9b9e5e0d-54a3-45a0-8b5a-f185700e2076');\n",
              "        const dataTable =\n",
              "          await google.colab.kernel.invokeFunction('convertToInteractive',\n",
              "                                                    [key], {});\n",
              "        if (!dataTable) return;\n",
              "\n",
              "        const docLinkHtml = 'Like what you see? Visit the ' +\n",
              "          '<a target=\"_blank\" href=https://colab.research.google.com/notebooks/data_table.ipynb>data table notebook</a>'\n",
              "          + ' to learn more about interactive tables.';\n",
              "        element.innerHTML = '';\n",
              "        dataTable['output_type'] = 'display_data';\n",
              "        await google.colab.output.renderOutput(dataTable, element);\n",
              "        const docLink = document.createElement('div');\n",
              "        docLink.innerHTML = docLinkHtml;\n",
              "        element.appendChild(docLink);\n",
              "      }\n",
              "    </script>\n",
              "  </div>\n",
              "\n",
              "\n",
              "    <div id=\"df-f7913e40-5b22-4f58-847a-f586aa12d73c\">\n",
              "      <button class=\"colab-df-quickchart\" onclick=\"quickchart('df-f7913e40-5b22-4f58-847a-f586aa12d73c')\"\n",
              "                title=\"Suggest charts\"\n",
              "                style=\"display:none;\">\n",
              "\n",
              "<svg xmlns=\"http://www.w3.org/2000/svg\" height=\"24px\"viewBox=\"0 0 24 24\"\n",
              "     width=\"24px\">\n",
              "    <g>\n",
              "        <path d=\"M19 3H5c-1.1 0-2 .9-2 2v14c0 1.1.9 2 2 2h14c1.1 0 2-.9 2-2V5c0-1.1-.9-2-2-2zM9 17H7v-7h2v7zm4 0h-2V7h2v10zm4 0h-2v-4h2v4z\"/>\n",
              "    </g>\n",
              "</svg>\n",
              "      </button>\n",
              "\n",
              "<style>\n",
              "  .colab-df-quickchart {\n",
              "      --bg-color: #E8F0FE;\n",
              "      --fill-color: #1967D2;\n",
              "      --hover-bg-color: #E2EBFA;\n",
              "      --hover-fill-color: #174EA6;\n",
              "      --disabled-fill-color: #AAA;\n",
              "      --disabled-bg-color: #DDD;\n",
              "  }\n",
              "\n",
              "  [theme=dark] .colab-df-quickchart {\n",
              "      --bg-color: #3B4455;\n",
              "      --fill-color: #D2E3FC;\n",
              "      --hover-bg-color: #434B5C;\n",
              "      --hover-fill-color: #FFFFFF;\n",
              "      --disabled-bg-color: #3B4455;\n",
              "      --disabled-fill-color: #666;\n",
              "  }\n",
              "\n",
              "  .colab-df-quickchart {\n",
              "    background-color: var(--bg-color);\n",
              "    border: none;\n",
              "    border-radius: 50%;\n",
              "    cursor: pointer;\n",
              "    display: none;\n",
              "    fill: var(--fill-color);\n",
              "    height: 32px;\n",
              "    padding: 0;\n",
              "    width: 32px;\n",
              "  }\n",
              "\n",
              "  .colab-df-quickchart:hover {\n",
              "    background-color: var(--hover-bg-color);\n",
              "    box-shadow: 0 1px 2px rgba(60, 64, 67, 0.3), 0 1px 3px 1px rgba(60, 64, 67, 0.15);\n",
              "    fill: var(--button-hover-fill-color);\n",
              "  }\n",
              "\n",
              "  .colab-df-quickchart-complete:disabled,\n",
              "  .colab-df-quickchart-complete:disabled:hover {\n",
              "    background-color: var(--disabled-bg-color);\n",
              "    fill: var(--disabled-fill-color);\n",
              "    box-shadow: none;\n",
              "  }\n",
              "\n",
              "  .colab-df-spinner {\n",
              "    border: 2px solid var(--fill-color);\n",
              "    border-color: transparent;\n",
              "    border-bottom-color: var(--fill-color);\n",
              "    animation:\n",
              "      spin 1s steps(1) infinite;\n",
              "  }\n",
              "\n",
              "  @keyframes spin {\n",
              "    0% {\n",
              "      border-color: transparent;\n",
              "      border-bottom-color: var(--fill-color);\n",
              "      border-left-color: var(--fill-color);\n",
              "    }\n",
              "    20% {\n",
              "      border-color: transparent;\n",
              "      border-left-color: var(--fill-color);\n",
              "      border-top-color: var(--fill-color);\n",
              "    }\n",
              "    30% {\n",
              "      border-color: transparent;\n",
              "      border-left-color: var(--fill-color);\n",
              "      border-top-color: var(--fill-color);\n",
              "      border-right-color: var(--fill-color);\n",
              "    }\n",
              "    40% {\n",
              "      border-color: transparent;\n",
              "      border-right-color: var(--fill-color);\n",
              "      border-top-color: var(--fill-color);\n",
              "    }\n",
              "    60% {\n",
              "      border-color: transparent;\n",
              "      border-right-color: var(--fill-color);\n",
              "    }\n",
              "    80% {\n",
              "      border-color: transparent;\n",
              "      border-right-color: var(--fill-color);\n",
              "      border-bottom-color: var(--fill-color);\n",
              "    }\n",
              "    90% {\n",
              "      border-color: transparent;\n",
              "      border-bottom-color: var(--fill-color);\n",
              "    }\n",
              "  }\n",
              "</style>\n",
              "\n",
              "      <script>\n",
              "        async function quickchart(key) {\n",
              "          const quickchartButtonEl =\n",
              "            document.querySelector('#' + key + ' button');\n",
              "          quickchartButtonEl.disabled = true;  // To prevent multiple clicks.\n",
              "          quickchartButtonEl.classList.add('colab-df-spinner');\n",
              "          try {\n",
              "            const charts = await google.colab.kernel.invokeFunction(\n",
              "                'suggestCharts', [key], {});\n",
              "          } catch (error) {\n",
              "            console.error('Error during call to suggestCharts:', error);\n",
              "          }\n",
              "          quickchartButtonEl.classList.remove('colab-df-spinner');\n",
              "          quickchartButtonEl.classList.add('colab-df-quickchart-complete');\n",
              "        }\n",
              "        (() => {\n",
              "          let quickchartButtonEl =\n",
              "            document.querySelector('#df-f7913e40-5b22-4f58-847a-f586aa12d73c button');\n",
              "          quickchartButtonEl.style.display =\n",
              "            google.colab.kernel.accessAllowed ? 'block' : 'none';\n",
              "        })();\n",
              "      </script>\n",
              "    </div>\n",
              "\n",
              "    </div>\n",
              "  </div>\n"
            ],
            "application/vnd.google.colaboratory.intrinsic+json": {
              "type": "dataframe",
              "summary": "{\n  \"name\": \"display(df\",\n  \"rows\": 8,\n  \"fields\": [\n    {\n      \"column\": \"X1\",\n      \"properties\": {\n        \"dtype\": \"number\",\n        \"std\": 2831.6895977189656,\n        \"min\": -281.0,\n        \"max\": 8000.0,\n        \"num_unique_values\": 8,\n        \"samples\": [\n          -1.490375,\n          0.0,\n          8000.0\n        ],\n        \"semantic_type\": \"\",\n        \"description\": \"\"\n      }\n    },\n    {\n      \"column\": \"X2\",\n      \"properties\": {\n        \"dtype\": \"number\",\n        \"std\": 2829.753166156878,\n        \"min\": -255.0,\n        \"max\": 8000.0,\n        \"num_unique_values\": 8,\n        \"samples\": [\n          -2.189375,\n          0.0,\n          8000.0\n        ],\n        \"semantic_type\": \"\",\n        \"description\": \"\"\n      }\n    },\n    {\n      \"column\": \"X3\",\n      \"properties\": {\n        \"dtype\": \"number\",\n        \"std\": 2830.898054984189,\n        \"min\": -255.0,\n        \"max\": 8000.0,\n        \"num_unique_values\": 8,\n        \"samples\": [\n          -3.2375,\n          -1.0,\n          8000.0\n        ],\n        \"semantic_type\": \"\",\n        \"description\": \"\"\n      }\n    },\n    {\n      \"column\": \"X4\",\n      \"properties\": {\n        \"dtype\": \"number\",\n        \"std\": 2830.7919126654265,\n        \"min\": -257.0,\n        \"max\": 8000.0,\n        \"num_unique_values\": 8,\n        \"samples\": [\n          -4.119375,\n          -1.0,\n          8000.0\n        ],\n        \"semantic_type\": \"\",\n        \"description\": \"\"\n      }\n    },\n    {\n      \"column\": \"X5\",\n      \"properties\": {\n        \"dtype\": \"number\",\n        \"std\": 2830.7410005138186,\n        \"min\": -264.0,\n        \"max\": 8000.0,\n        \"num_unique_values\": 8,\n        \"samples\": [\n          -1.821625,\n          0.0,\n          8000.0\n        ],\n        \"semantic_type\": \"\",\n        \"description\": \"\"\n      }\n    },\n    {\n      \"column\": \"X6\",\n      \"properties\": {\n        \"dtype\": \"number\",\n        \"std\": 2831.81457375624,\n        \"min\": -277.0,\n        \"max\": 8000.0,\n        \"num_unique_values\": 8,\n        \"samples\": [\n          -2.31175,\n          0.0,\n          8000.0\n        ],\n        \"semantic_type\": \"\",\n        \"description\": \"\"\n      }\n    },\n    {\n      \"column\": \"X7\",\n      \"properties\": {\n        \"dtype\": \"number\",\n        \"std\": 2832.983070581167,\n        \"min\": -277.0,\n        \"max\": 8000.0,\n        \"num_unique_values\": 8,\n        \"samples\": [\n          -3.398125,\n          -1.0,\n          8000.0\n        ],\n        \"semantic_type\": \"\",\n        \"description\": \"\"\n      }\n    },\n    {\n      \"column\": \"X8\",\n      \"properties\": {\n        \"dtype\": \"number\",\n        \"std\": 2829.9445655277013,\n        \"min\": -260.0,\n        \"max\": 8000.0,\n        \"num_unique_values\": 8,\n        \"samples\": [\n          -3.448625,\n          -1.0,\n          8000.0\n        ],\n        \"semantic_type\": \"\",\n        \"description\": \"\"\n      }\n    },\n    {\n      \"column\": \"X9\",\n      \"properties\": {\n        \"dtype\": \"number\",\n        \"std\": 2831.17981379538,\n        \"min\": -290.0,\n        \"max\": 8000.0,\n        \"num_unique_values\": 8,\n        \"samples\": [\n          -1.647875,\n          0.0,\n          8000.0\n        ],\n        \"semantic_type\": \"\",\n        \"description\": \"\"\n      }\n    },\n    {\n      \"column\": \"X10\",\n      \"properties\": {\n        \"dtype\": \"number\",\n        \"std\": 2833.1647604794885,\n        \"min\": -302.0,\n        \"max\": 8000.0,\n        \"num_unique_values\": 8,\n        \"samples\": [\n          -2.56125,\n          0.0,\n          8000.0\n        ],\n        \"semantic_type\": \"\",\n        \"description\": \"\"\n      }\n    },\n    {\n      \"column\": \"X11\",\n      \"properties\": {\n        \"dtype\": \"number\",\n        \"std\": 2831.3209141815983,\n        \"min\": -276.0,\n        \"max\": 8000.0,\n        \"num_unique_values\": 8,\n        \"samples\": [\n          -3.5245,\n          -1.0,\n          8000.0\n        ],\n        \"semantic_type\": \"\",\n        \"description\": \"\"\n      }\n    },\n    {\n      \"column\": \"X12\",\n      \"properties\": {\n        \"dtype\": \"number\",\n        \"std\": 2832.6653395664,\n        \"min\": -306.0,\n        \"max\": 8000.0,\n        \"num_unique_values\": 8,\n        \"samples\": [\n          -4.78275,\n          -2.0,\n          8000.0\n        ],\n        \"semantic_type\": \"\",\n        \"description\": \"\"\n      }\n    },\n    {\n      \"column\": \"X13\",\n      \"properties\": {\n        \"dtype\": \"number\",\n        \"std\": 2830.5480974042057,\n        \"min\": -288.0,\n        \"max\": 8000.0,\n        \"num_unique_values\": 8,\n        \"samples\": [\n          -2.164,\n          0.0,\n          8000.0\n        ],\n        \"semantic_type\": \"\",\n        \"description\": \"\"\n      }\n    },\n    {\n      \"column\": \"X14\",\n      \"properties\": {\n        \"dtype\": \"number\",\n        \"std\": 2830.917520820244,\n        \"min\": -290.0,\n        \"max\": 8000.0,\n        \"num_unique_values\": 8,\n        \"samples\": [\n          -2.910875,\n          0.0,\n          8000.0\n        ],\n        \"semantic_type\": \"\",\n        \"description\": \"\"\n      }\n    },\n    {\n      \"column\": \"X15\",\n      \"properties\": {\n        \"dtype\": \"number\",\n        \"std\": 2835.003952568244,\n        \"min\": -323.0,\n        \"max\": 8000.0,\n        \"num_unique_values\": 8,\n        \"samples\": [\n          -4.355375,\n          -2.0,\n          8000.0\n        ],\n        \"semantic_type\": \"\",\n        \"description\": \"\"\n      }\n    },\n    {\n      \"column\": \"X16\",\n      \"properties\": {\n        \"dtype\": \"number\",\n        \"std\": 2833.7524120352055,\n        \"min\": -317.0,\n        \"max\": 8000.0,\n        \"num_unique_values\": 8,\n        \"samples\": [\n          -4.11375,\n          -1.0,\n          8000.0\n        ],\n        \"semantic_type\": \"\",\n        \"description\": \"\"\n      }\n    },\n    {\n      \"column\": \"y\",\n      \"properties\": {\n        \"dtype\": \"number\",\n        \"std\": 2827.916228563462,\n        \"min\": 0.0,\n        \"max\": 8000.0,\n        \"num_unique_values\": 7,\n        \"samples\": [\n          8000.0,\n          1.5,\n          2.25\n        ],\n        \"semantic_type\": \"\",\n        \"description\": \"\"\n      }\n    }\n  ]\n}"
            }
          },
          "metadata": {}
        }
      ]
    },
    {
      "cell_type": "markdown",
      "source": [
        "Next, we will analyze the distribution of our original target variable, y. The dataset description indicates there are four distinct classes, meaning that this is a **multi-class classification dataset**. Visualizing this will help us confirm the structure of the raw data before we process it for our binary classification task."
      ],
      "metadata": {
        "id": "bdX48zslhcK1"
      }
    },
    {
      "cell_type": "code",
      "source": [
        "# Analyze Original Multi-Class Target Variable\n",
        "\n",
        "# Check the distribution of the original target variable \"y\"\n",
        "print(\"Original Target Variable Distribution:\")\n",
        "print(df['y'].value_counts())\n",
        "\n",
        "# Visualize the distribution\n",
        "plt.figure(figsize=(8, 5))\n",
        "sns.countplot(x='y', data=df)\n",
        "plt.title('Distribution of Original Four Classes')\n",
        "plt.xlabel('Class (0:Healthy, 1:Gen. Seizure, 2:Focal Seizure, 3:Seizure Event)')\n",
        "plt.ylabel('Count')\n",
        "plt.show()"
      ],
      "metadata": {
        "colab": {
          "base_uri": "https://localhost:8080/",
          "height": 617
        },
        "id": "7T9ywjYygxGW",
        "outputId": "f18e67b0-6fab-4eec-a135-c1da2d6e7e35"
      },
      "execution_count": null,
      "outputs": [
        {
          "output_type": "stream",
          "name": "stdout",
          "text": [
            "Original Target Variable Distribution:\n",
            "y\n",
            "0    2000\n",
            "1    2000\n",
            "2    2000\n",
            "3    2000\n",
            "Name: count, dtype: int64\n"
          ]
        },
        {
          "output_type": "display_data",
          "data": {
            "text/plain": [
              "<Figure size 800x500 with 1 Axes>"
            ],
            "image/png": "[encoded data removed]"
          },
          "metadata": {}
        }
      ]
    },
    {
      "cell_type": "markdown",
      "source": [
        "## 1.3 Framing the Problem: Multi-Class to Binary Classification\n",
        "The plot above confirms that our dataset is perfectly balanced across four distinct categories. For this project, we will focus on the critical clinical question of detecting the presence or absence of any seizure activity. This requires us to transform our multi-class problem into a binary classification problem.\n",
        "\n",
        "We will create a new binary target where: `Class 0` ***(Healthy)*** remains 0 ***(Absence of seizure)***.\n",
        "\n",
        "`Classes 1, 2, and 3` ***(all seizure types)*** are consolidated into 1 ***(Presence of seizure)***.\n",
        "\n",
        "This is a justified simplification that aligns with our primary goal and allows us to build a model focused on the most important diagnostic question: \"Does the patient have epilepsy or not?\""
      ],
      "metadata": {
        "id": "0utCTgaqq-si"
      }
    },
    {
      "cell_type": "code",
      "source": [
        "# Transform Target Variable to Binary\n",
        "\n",
        "# Apply the transformation: 0 stays 0, anything > 0 becomes 1.\n",
        "df['y'] = (df['y'] > 0).astype(int)\n",
        "\n",
        "print(\"Target variable successfully transformed to binary format.\")\n",
        "print(\"\\nNew Target Variable Distribution:\")\n",
        "print(df['y'].value_counts())"
      ],
      "metadata": {
        "colab": {
          "base_uri": "https://localhost:8080/"
        },
        "id": "IcOTZl3shJQH",
        "outputId": "546d660b-3900-4206-90c4-1dcb284b15e8"
      },
      "execution_count": null,
      "outputs": [
        {
          "output_type": "stream",
          "name": "stdout",
          "text": [
            "Target variable successfully transformed to binary format.\n",
            "\n",
            "New Target Variable Distribution:\n",
            "y\n",
            "1    6000\n",
            "0    2000\n",
            "Name: count, dtype: int64\n"
          ]
        }
      ]
    },
    {
      "cell_type": "markdown",
      "source": [
        "Now that we have our binary target variable, let's visualize its new distribution. This reveals a crucial characteristic of our problem: class imbalance. The \"Presence\" class is now three times larger than the \"Absence\" class. This is an important finding that will influence how we split our data and evaluate our models later on. A simple accuracy score, for example, could be misleading on an imbalanced dataset."
      ],
      "metadata": {
        "id": "O-9e0Auws9a0"
      }
    },
    {
      "cell_type": "code",
      "source": [
        "# Analyze New Binary Target Variable\n",
        "\n",
        "plt.figure(figsize=(6, 4))\n",
        "sns.countplot(x='y', data=df)\n",
        "plt.title('Distribution of Seizure Presence (1) vs. Absence (0)')\n",
        "plt.xlabel('Class (0: Absence, 1: Presence)')\n",
        "plt.ylabel('Count')\n",
        "plt.show()"
      ],
      "metadata": {
        "colab": {
          "base_uri": "https://localhost:8080/",
          "height": 419
        },
        "id": "0a5KljzmsRDS",
        "outputId": "10c8bb57-7980-493a-d242-5351002499b9"
      },
      "execution_count": null,
      "outputs": [
        {
          "output_type": "display_data",
          "data": {
            "text/plain": [
              "<Figure size 600x400 with 1 Axes>"
            ],
            "image/png": "[encoded data removed]"
          },
          "metadata": {}
        }
      ]
    },
    {
      "cell_type": "markdown",
      "source": [
        "To understand the relationships between the 16 EEG channel features, we'll visualize a correlation matrix. A heatmap is an effective way to see which channels have strong positive or negative correlations. This can provide insights into which brain regions might be co-activated during the recorded events."
      ],
      "metadata": {
        "id": "r2ssmWyrtKM5"
      }
    },
    {
      "cell_type": "code",
      "source": [
        "# Feature Correlation Heatmap\n",
        "\n",
        "# Select only the feature columns (X1 to X16)\n",
        "features = df.drop(\"y\", axis=1)\n",
        "\n",
        "# Calculate the correlation matrix\n",
        "corr_matrix = features.corr()\n",
        "\n",
        "# Plot the heatmap\n",
        "plt.figure(figsize=(14, 10))\n",
        "sns.heatmap(corr_matrix, cmap=\"coolwarm\") # Changed colormap to 'plasma'\n",
        "plt.title(\"Correlation Matrix of EEG Features\")\n",
        "plt.show()"
      ],
      "metadata": {
        "colab": {
          "base_uri": "https://localhost:8080/",
          "height": 857
        },
        "id": "dAH5SlbUtAvO",
        "outputId": "37d7a2cf-664c-48c5-c7b0-0fb9f05fbe34"
      },
      "execution_count": null,
      "outputs": [
        {
          "output_type": "display_data",
          "data": {
            "text/plain": [
              "<Figure size 1400x1000 with 2 Axes>"
            ],
            "image/png": "[encoded data removed]"
          },
          "metadata": {}
        }
      ]
    },
    {
      "cell_type": "markdown",
      "source": [
        "## 1.4 Data Pre-processing: Splitting and Scaling\n",
        "Now we prepare the data for modeling.\n",
        "\n",
        "### Splitting the Data:\n",
        "We'll divide the data into training and testing sets. Crucially, because our dataset is now imbalanced, we will use stratified splitting. This ensures that both the training and testing sets have the same proportion of seizure and non-seizure cases as the original dataset.\n",
        "\n",
        "### Feature Scaling:\n",
        "We'll use StandardScaler to standardize the features. We will fit the scaler only on the training data and then use it to transform both the training and testing data to prevent data leakage."
      ],
      "metadata": {
        "id": "D1f51MGeuKz1"
      }
    },
    {
      "cell_type": "code",
      "source": [
        "# Define features (X) and target (y)\n",
        "X = df.drop('y', axis=1)\n",
        "y = df['y']\n",
        "\n",
        "# Split the data into training (80%) and testing (20%) sets\n",
        "# Use stratify=y to ensure proportional splits for the imbalanced classes\n",
        "X_train, X_test, y_train, y_test = train_test_split(X, y, test_size=0.2, random_state=42, stratify=y)\n",
        "\n",
        "print(f\"Training set shape: {X_train.shape}\")\n",
        "print(f\"Testing set shape: {X_test.shape}\")\n",
        "print(\"\\nTraining set class distribution:\\n\", y_train.value_counts(normalize=True))\n",
        "print(\"\\nTesting set class distribution:\\n\", y_test.value_counts(normalize=True))\n",
        "\n",
        "# Initialize the StandardScaler\n",
        "scaler = StandardScaler()\n",
        "\n",
        "# Fit the scaler ON THE TRAINING DATA ONLY and transform it\n",
        "X_train_scaled = scaler.fit_transform(X_train)\n",
        "\n",
        "# Transform the test data using the SAME scaler\n",
        "X_test_scaled = scaler.transform(X_test)\n",
        "\n",
        "print(\"\\nFeatures have been successfully scaled.\")"
      ],
      "metadata": {
        "colab": {
          "base_uri": "https://localhost:8080/"
        },
        "id": "Yiyyc6mitZPs",
        "outputId": "a598ee32-cac8-4b26-c0da-3f439428e1ba"
      },
      "execution_count": null,
      "outputs": [
        {
          "output_type": "stream",
          "name": "stdout",
          "text": [
            "Training set shape: (6400, 16)\n",
            "Testing set shape: (1600, 16)\n",
            "\n",
            "Training set class distribution:\n",
            " y\n",
            "1    0.75\n",
            "0    0.25\n",
            "Name: proportion, dtype: float64\n",
            "\n",
            "Testing set class distribution:\n",
            " y\n",
            "1    0.75\n",
            "0    0.25\n",
            "Name: proportion, dtype: float64\n",
            "\n",
            "Features have been successfully scaled.\n"
          ]
        }
      ]
    },
    {
      "cell_type": "markdown",
      "source": [
        "The data is now fully pre-processed. We have separate, scaled training and testing sets ready for model implementation. We can now proceed to Part 2: Classical Machine Learning Models."
      ],
      "metadata": {
        "id": "dCj3oRKJ8Mlm"
      }
    },
    {
      "cell_type": "markdown",
      "source": [
        "# Part 2: Classical Machine Learning Models\n",
        "With our data pre-processed, we can now train and evaluate our classical models. We will start with Logistic Regression [2], a powerful and interpretable linear model that will serve as our baseline.\n",
        "\n",
        "## 2.1 Experiment: The Impact of Class Weights on Logistic Regression\n",
        "As discovered during EDA, our dataset is imbalanced. To address this, we will conduct an experiment by training two versions of the model:\n",
        "\n",
        "1.   **Baseline Model:** A standard Logistic Regression model trained on the imbalanced data.\n",
        "2.   **Balanced Model:** A Logistic Regression model that uses the `class_weight='balanced'` parameter to counteract bias.\n",
        "\n",
        "This will allow us to directly measure the impact of this technique on model performance."
      ],
      "metadata": {
        "id": "e0asLvno8N8l"
      }
    },
    {
      "cell_type": "code",
      "source": [
        "# Train Baseline and Balanced Logistic Regression Models\n",
        "\n",
        "# Initialize the Models\n",
        "# Model A: Baseline\n",
        "baseline_logreg = LogisticRegression(random_state=42)\n",
        "\n",
        "# Model B: Balanced\n",
        "balanced_logreg = LogisticRegression(random_state=42, class_weight='balanced')\n",
        "\n",
        "\n",
        "# Train the Models\n",
        "baseline_logreg.fit(X_train_scaled, y_train)\n",
        "balanced_logreg.fit(X_train_scaled, y_train)\n",
        "\n",
        "print(\"\\nBoth models have been trained successfully.\")\n",
        "\n",
        "\n",
        "# Make Predictions on the Test Set\n",
        "y_pred_baseline = baseline_logreg.predict(X_test_scaled)\n",
        "y_pred_balanced = balanced_logreg.predict(X_test_scaled)"
      ],
      "metadata": {
        "colab": {
          "base_uri": "https://localhost:8080/"
        },
        "id": "QSbMfo4Pu1sW",
        "outputId": "6dc3a86c-9940-4040-b902-a054b3140355"
      },
      "execution_count": null,
      "outputs": [
        {
          "output_type": "stream",
          "name": "stdout",
          "text": [
            "\n",
            "Both models have been trained successfully.\n"
          ]
        }
      ]
    },
    {
      "cell_type": "markdown",
      "source": [
        "## 2.2 Evaluation and Comparison\n",
        "We will now evaluate both models on the unseen test data. We'll compare their confusion matrices and a full suite of classification metrics.\n",
        "\n",
        "Our hypothesis is that the Balanced Model will show a significant improvement in Recall for the minority class **(0)** and a better overall `F1-score`, even if its raw accuracy is slightly lower. This would indicate it's a more robust and less biased model for our medical diagnosis task."
      ],
      "metadata": {
        "id": "e918Zr3B9gn5"
      }
    },
    {
      "cell_type": "code",
      "source": [
        "# Evaluate Both Logistic Regression Models\n",
        "\n",
        "from sklearn.metrics import classification_report\n",
        "\n",
        "# Print Classification Reports\n",
        "print(\"--- Baseline Model Evaluation ---\")\n",
        "print(classification_report(y_test, y_pred_baseline, target_names=['Absence (0)', 'Presence (1)']))\n",
        "\n",
        "print(\"\\n--- Balanced Model Evaluation ---\")\n",
        "print(classification_report(y_test, y_pred_balanced, target_names=['Absence (0)', 'Presence (1)']))\n",
        "\n",
        "\n",
        "# Plot Confusion Matrices\n",
        "fig, axes = plt.subplots(1, 2, figsize=(12, 5))\n",
        "\n",
        "# Baseline Confusion Matrix\n",
        "cm_baseline = confusion_matrix(y_test, y_pred_baseline)\n",
        "sns.heatmap(cm_baseline, annot=True, fmt='d', cmap='Blues', ax=axes[0])\n",
        "axes[0].set_title('Baseline Model Confusion Matrix')\n",
        "axes[0].set_xlabel('Predicted')\n",
        "axes[0].set_ylabel('Actual')\n",
        "\n",
        "# Balanced Confusion Matrix\n",
        "cm_balanced = confusion_matrix(y_test, y_pred_balanced)\n",
        "sns.heatmap(cm_balanced, annot=True, fmt='d', cmap='Oranges', ax=axes[1])\n",
        "axes[1].set_title('Balanced Model Confusion Matrix')\n",
        "axes[1].set_xlabel('Predicted')\n",
        "axes[1].set_ylabel('Actual')\n",
        "\n",
        "plt.tight_layout()\n",
        "plt.show()"
      ],
      "metadata": {
        "colab": {
          "base_uri": "https://localhost:8080/",
          "height": 865
        },
        "id": "ns66C8e29Yqs",
        "outputId": "887fd3e3-9b26-4ee9-9745-d63da33d078e"
      },
      "execution_count": null,
      "outputs": [
        {
          "output_type": "stream",
          "name": "stdout",
          "text": [
            "--- Baseline Model Evaluation ---\n",
            "              precision    recall  f1-score   support\n",
            "\n",
            " Absence (0)       0.93      0.24      0.38       400\n",
            "Presence (1)       0.80      0.99      0.89      1200\n",
            "\n",
            "    accuracy                           0.81      1600\n",
            "   macro avg       0.87      0.62      0.63      1600\n",
            "weighted avg       0.83      0.81      0.76      1600\n",
            "\n",
            "\n",
            "--- Balanced Model Evaluation ---\n",
            "              precision    recall  f1-score   support\n",
            "\n",
            " Absence (0)       0.35      0.58      0.44       400\n",
            "Presence (1)       0.82      0.64      0.72      1200\n",
            "\n",
            "    accuracy                           0.63      1600\n",
            "   macro avg       0.59      0.61      0.58      1600\n",
            "weighted avg       0.70      0.63      0.65      1600\n",
            "\n"
          ]
        },
        {
          "output_type": "display_data",
          "data": {
            "text/plain": [
              "<Figure size 1200x500 with 4 Axes>"
            ],
            "image/png": "[encoded data removed]"
          },
          "metadata": {}
        }
      ]
    },
    {
      "cell_type": "markdown",
      "source": [
        "Looking at the two Logistic Regression models helps explain the problem of class imbalance. It also shows why it is so important to pick the right way to measure performance.\n",
        "\n",
        "At first, the baseline model seemed good with an 81% accuracy rate. However, it had a major flaw, as it only correctly identified 24% of the healthy cases (the \"Absence\" class). This means it wrongly flagged 303 healthy people as having a seizure. The model was clearly biased toward the larger \"Presence\" (seizure) class, which it detected almost perfectly.\n",
        "\n",
        "The second model used a \"balanced\" setting to fix this bias. As a result, it became much better at identifying healthy individuals, and its recall for the \"Absence\" class rose to 58%. Unfortunately, this improvement created an unacceptable problem. The model became much worse at its main job of detecting seizures. Its recall for the \"Presence\" class fell from 99% to 64%, which caused the number of missed seizures to jump from only 7 to 431.\n",
        "\n",
        "In a critical medical task like this, failing to detect a real seizure is the most dangerous error. Because the balanced model missed so many seizures, it is too unreliable for real-world use. Therefore, the baseline model is the safer choice. Its focus on catching as many seizures as possible is better, even if it creates more false alarms. This shows that the \"best\" model is not always the one with the highest score, but the one that makes the least harmful mistakes."
      ],
      "metadata": {
        "id": "VJPnAlS6Dzkl"
      }
    },
    {
      "cell_type": "markdown",
      "source": [
        "## 2.3 Experiment: The Impact of Class Weights on Random Forest\n",
        "Next, we'll implement a Random Forest Classifier [4]. As an ensemble of many decision trees, this model is inherently non-linear and is often able to capture more complex patterns and feature interactions than a linear model like Logistic Regression.\n",
        "\n",
        "We will follow the same experimental procedure to assess the impact of the class imbalance. We'll train a baseline version and a balanced version to see if this more complex model can find a better solution to the bias problem."
      ],
      "metadata": {
        "id": "V4663ZEOV8y_"
      }
    },
    {
      "cell_type": "code",
      "source": [
        "# Train Baseline and Balanced Random Forest Models\n",
        "from sklearn.ensemble import RandomForestClassifier\n",
        "\n",
        "# Initializing the models\n",
        "# Model A: Baseline\n",
        "baseline_rf = RandomForestClassifier(n_estimators=100, random_state=42)\n",
        "\n",
        "# Model B: Balanced\n",
        "balanced_rf = RandomForestClassifier(n_estimators=100, random_state=42, class_weight='balanced')\n",
        "\n",
        "\n",
        "# Train the Models\n",
        "baseline_rf.fit(X_train_scaled, y_train)\n",
        "balanced_rf.fit(X_train_scaled, y_train)\n",
        "\n",
        "print(\"\\nBoth Random Forest models have been trained successfully.\")\n",
        "\n",
        "\n",
        "# 3. Make Predictions on the Test Set\n",
        "y_pred_baseline_rf = baseline_rf.predict(X_test_scaled)\n",
        "y_pred_balanced_rf = balanced_rf.predict(X_test_scaled)"
      ],
      "metadata": {
        "colab": {
          "base_uri": "https://localhost:8080/"
        },
        "id": "pt4RTSGt-A--",
        "outputId": "e93b5219-9495-4104-e2b0-468e8f322884"
      },
      "execution_count": null,
      "outputs": [
        {
          "output_type": "stream",
          "name": "stdout",
          "text": [
            "\n",
            "Both Random Forest models have been trained successfully.\n"
          ]
        }
      ]
    },
    {
      "cell_type": "markdown",
      "source": [
        "## 2.4 Evaluation and Comparison of Random Forest Models\n",
        "We will now evaluate the performance of both Random Forest models on the test set. We'll again focus on the confusion matrix and the precision, recall, and F1-scores for each class to determine if the balancing strategy was effective for this more complex model."
      ],
      "metadata": {
        "id": "O96D4ninWzIK"
      }
    },
    {
      "cell_type": "code",
      "source": [
        "# Print Classification Reports\n",
        "print(\"--- Baseline Random Forest Evaluation ---\")\n",
        "print(classification_report(y_test, y_pred_baseline_rf, target_names=['Absence (0)', 'Presence (1)']))\n",
        "\n",
        "print(\"\\n--- Balanced Random Forest Evaluation ---\")\n",
        "print(classification_report(y_test, y_pred_balanced_rf, target_names=['Absence (0)', 'Presence (1)']))\n",
        "\n",
        "\n",
        "# Plot Confusion Matrices\n",
        "fig, axes = plt.subplots(1, 2, figsize=(12, 5))\n",
        "\n",
        "# Baseline Confusion Matrix\n",
        "cm_baseline_rf = confusion_matrix(y_test, y_pred_baseline_rf)\n",
        "sns.heatmap(cm_baseline_rf, annot=True, fmt='d', cmap='Greens', ax=axes[0])\n",
        "axes[0].set_title('Baseline RF Confusion Matrix')\n",
        "axes[0].set_xlabel('Predicted')\n",
        "axes[0].set_ylabel('Actual')\n",
        "\n",
        "# Balanced Confusion Matrix\n",
        "cm_balanced_rf = confusion_matrix(y_test, y_pred_balanced_rf)\n",
        "sns.heatmap(cm_balanced_rf, annot=True, fmt='d', cmap='Reds', ax=axes[1])\n",
        "axes[1].set_title('Balanced RF Confusion Matrix')\n",
        "axes[1].set_xlabel('Predicted')\n",
        "axes[1].set_ylabel('Actual')\n",
        "\n",
        "plt.tight_layout()\n",
        "plt.show()"
      ],
      "metadata": {
        "colab": {
          "base_uri": "https://localhost:8080/",
          "height": 865
        },
        "id": "CY2mzbVZWoM6",
        "outputId": "13a4181e-6f02-4b05-a42e-4d0ed3c463ef"
      },
      "execution_count": null,
      "outputs": [
        {
          "output_type": "stream",
          "name": "stdout",
          "text": [
            "--- Baseline Random Forest Evaluation ---\n",
            "              precision    recall  f1-score   support\n",
            "\n",
            " Absence (0)       1.00      0.98      0.99       400\n",
            "Presence (1)       0.99      1.00      1.00      1200\n",
            "\n",
            "    accuracy                           0.99      1600\n",
            "   macro avg       1.00      0.99      0.99      1600\n",
            "weighted avg       1.00      0.99      0.99      1600\n",
            "\n",
            "\n",
            "--- Balanced Random Forest Evaluation ---\n",
            "              precision    recall  f1-score   support\n",
            "\n",
            " Absence (0)       1.00      0.99      0.99       400\n",
            "Presence (1)       1.00      1.00      1.00      1200\n",
            "\n",
            "    accuracy                           1.00      1600\n",
            "   macro avg       1.00      0.99      1.00      1600\n",
            "weighted avg       1.00      1.00      1.00      1600\n",
            "\n"
          ]
        },
        {
          "output_type": "display_data",
          "data": {
            "text/plain": [
              "<Figure size 1200x500 with 4 Axes>"
            ],
            "image/png": "[encoded data removed]"
          },
          "metadata": {}
        }
      ]
    },
    {
      "cell_type": "markdown",
      "source": [
        "## 2.5 Summary of Classical Model Performance\n",
        "The experiments with classical models has shown a clear performance difference between the linear and non-linear approaches.\n",
        "\n",
        "The Logistic Regression model struggled with the unbalanced data. The baseline version was very good at catching seizures, with a 99% recall, but it also produced a high number of false alarms. A balanced version reduced the false alarms, but it did so at the cost of missing an unacceptable number of seizures.\n",
        "\n",
        "By comparison, the Random Forest model was powerful enough to separate the classes almost perfectly. Both its baseline and balanced versions performed extremely well across all metrics. The Balanced Random Forest was the best classical model. It achieved a perfect 1.00 recall for the \"Presence\" class, meaning it missed zero seizures. It also had a near-perfect 0.99 recall for the \"Absence\" class, making only four mistakes.\n",
        "\n",
        "This model sets a very high benchmark. The challenge for the from-scratch neural network is to see if it can learn the patterns in the data well enough to match this level of accuracy"
      ],
      "metadata": {
        "id": "0umzD05AXp0_"
      }
    },
    {
      "cell_type": "markdown",
      "source": [
        "# Part 3: Neural Network from Scratch\n",
        "\n",
        "With a performance baseline set by the classical models, the next phase of the project is to build a feed-forward neural network from scratch using only NumPy.\n",
        "\n",
        "The planned structure for this network includes an input layer, two hidden layers using ReLU activation, and an output layer using Sigmoid activation [3]. All essential parts of the network will be coded manually. This includes the activation functions, the forward propagation step, the cross-entropy loss function, and the backpropagation algorithm that updates the model's weights and biases.\n",
        "\n",
        "Building the network this way provides a fundamental understanding of how neural networks actually learn from data."
      ],
      "metadata": {
        "id": "OKi9XziyY6AK"
      }
    },
    {
      "cell_type": "markdown",
      "source": [
        "# 3.1 Network Architecture and Justification\n",
        "The network's structure consists of four layers: an input layer, two hidden layers, and an output layer.\n",
        "\n",
        "The input layer is designed with 16 neurons, matching the 16 features of the EEG dataset. The first hidden layer expands to 64 neurons, allowing the model to learn complex patterns from the input data. The second hidden layer is smaller, with 32 neurons, which encourages the network to summarize the most important information it has learned. The final output layer has a single neuron because the goal is binary classification **(seizure or no seizure)**.\n",
        "\n",
        "The choice of activation function is critical for performance.\n",
        "\n",
        "* ReLU **(Rectified Linear Unit)**, defined as `f(x)=max(0,x)`, is used in the hidden layers. It is simple to compute and helps prevent the \"**vanishing gradient**\" problem, an issue that can stall a network's learning process.\n",
        "\n",
        "* Sigmoid, defined as $$ \\sigma(z) = \\frac{1}{1 + e^{-z}} $$ is used in the output layer. It converts the network's final number into a probability value between 0 and 1, which is exactly what's needed for a binary classification result."
      ],
      "metadata": {
        "id": "WjfLsZXTa1QY"
      }
    },
    {
      "cell_type": "markdown",
      "source": [
        "# 3.2 Core Components: Activation Functions\n",
        "The first step in our implementation is to code the activation functions and their derivatives. The derivative of each function is crucial for the backpropagation step, as it tells us how to adjust the network's weights."
      ],
      "metadata": {
        "id": "ia-DkHbNcrAj"
      }
    },
    {
      "cell_type": "code",
      "source": [
        "# Activation Functions and Their Derivatives\n",
        "\n",
        "def sigmoid(Z):\n",
        "    \"\"\"\n",
        "    Computes the sigmoid of Z.\n",
        "\n",
        "    Arguments:\n",
        "    Z : A scalar or numpy array of any size.\n",
        "\n",
        "    Return:\n",
        "    A : output of sigmoid(Z), same shape as Z\n",
        "    cache : returns Z as well, useful for backpropagation\n",
        "    \"\"\"\n",
        "    A = 1 / (1 + np.exp(-Z))\n",
        "    cache = Z\n",
        "    return A, cache\n",
        "\n",
        "def relu(Z):\n",
        "    \"\"\"\n",
        "    Computes the RELU of Z.\n",
        "\n",
        "    Arguments:\n",
        "    Z : Output of the linear layer, of any shape.\n",
        "\n",
        "    Returns:\n",
        "    A : Post-activation parameter, of the same shape as Z.\n",
        "    cache : a python dictionary containing \"A\" ; stored for computing the backward pass efficiently.\n",
        "    \"\"\"\n",
        "    A = np.maximum(0, Z)\n",
        "    cache = Z\n",
        "    return A, cache\n",
        "\n",
        "\n",
        "def relu_backward(dA, cache):\n",
        "    \"\"\"\n",
        "    Implements the backward propagation for a single RELU unit.\n",
        "\n",
        "    Arguments:\n",
        "    dA : post-activation gradient, of any shape\n",
        "    cache : 'Z' where we store for computing backward propagation efficiently\n",
        "\n",
        "    Returns:\n",
        "    dZ : Gradient of the cost with respect to Z\n",
        "    \"\"\"\n",
        "    Z = cache\n",
        "    dZ = np.array(dA, copy=True) # just converting dz to a correct object.\n",
        "\n",
        "    # When Z <= 0, you should set dZ to 0 as well.\n",
        "    dZ[Z <= 0] = 0\n",
        "\n",
        "    return dZ\n",
        "\n",
        "def sigmoid_backward(dA, cache):\n",
        "    \"\"\"\n",
        "    Implements the backward propagation for a single SIGMOID unit.\n",
        "\n",
        "    Arguments:\n",
        "    dA : post-activation gradient, of any shape\n",
        "    cache : 'Z' where we store for computing backward propagation efficiently\n",
        "\n",
        "    Returns:\n",
        "    dZ : Gradient of the cost with respect to Z\n",
        "    \"\"\"\n",
        "    Z = cache\n",
        "\n",
        "    s = 1 / (1 + np.exp(-Z))\n",
        "    dZ = dA * s * (1 - s)\n",
        "\n",
        "    return dZ"
      ],
      "metadata": {
        "id": "12ZTFpMEXEC0"
      },
      "execution_count": null,
      "outputs": []
    },
    {
      "cell_type": "markdown",
      "source": [
        "# 3.3 Parameter Initialization\n",
        "Before a network can learn, its parameters need to be initialized. For a network with L layers, this involves setting up L weight matrices (`W[1]`, `W[2]`, etc.) and L bias vectors (`b[1]`, `b[2]`, etc.).\n",
        "\n",
        "The weights (W) must be initialized with small, random numbers. This is a crucial step to \"*break symmetry*.\" If all weights started at the same value, every neuron in a layer would learn the same thing. Random values ensure they learn different features. The biases (b), however, can be initialized to zero.\n",
        "\n",
        "The dimensions for these parameters are determined by the network's architecture. For this specific model, the dimensions are:\n",
        "\n",
        "`W[1]`: (64, 16) and `b[1]`: (64, 1)\n",
        "\n",
        "`W[2]`: (32, 64) and `b[2]`: (32, 1)\n",
        "\n",
        "`W[3]`: (1, 32) and `b[3]`: (1, 1)\n",
        "\n",
        "A single function will be created to handle this initialization for a network of any specified size."
      ],
      "metadata": {
        "id": "oTuCjiDte3Dw"
      }
    },
    {
      "cell_type": "code",
      "source": [
        "# Initializing Network Parameters\n",
        "\n",
        "def initialize_parameters_deep(layer_dims):\n",
        "    \"\"\"\n",
        "    Initializes parameters for a deep neural network.\n",
        "\n",
        "    Arguments:\n",
        "    layer_dims - python array (list) containing the dimensions of each layer in our network\n",
        "\n",
        "    Returns:\n",
        "    parameters - python dictionary containing your parameters \"W1\", \"b1\", ..., \"WL\", \"bL\":\n",
        "                    Wl -- weight matrix of shape (layer_dims[l], layer_dims[l-1])\n",
        "                    bl -- bias vector of shape (layer_dims[l], 1)\n",
        "    \"\"\"\n",
        "    np.random.seed(42) # for reproducibility\n",
        "    parameters = {}\n",
        "    L = len(layer_dims) # number of layers in the network\n",
        "\n",
        "    for l in range(1, L):\n",
        "        parameters['W' + str(l)] = np.random.randn(layer_dims[l], layer_dims[l-1]) * 0.01\n",
        "        parameters['b' + str(l)] = np.zeros((layer_dims[l], 1))\n",
        "\n",
        "        assert(parameters['W' + str(l)].shape == (layer_dims[l], layer_dims[l-1]))\n",
        "        assert(parameters['b' + str(l)].shape == (layer_dims[l], 1))\n",
        "\n",
        "    return parameters"
      ],
      "metadata": {
        "id": "xmUsjgDKdPhA"
      },
      "execution_count": null,
      "outputs": []
    },
    {
      "cell_type": "markdown",
      "source": [
        "# 3.4 Forward Propagation\n",
        "With the parameter initialization function in place, the next step is to build the forward propagation module. This module takes an input, `X`, and passes it through the network layer by layer to generate a final prediction, denoted as $\\hat{y}$ or `A[L]`.\n",
        "\n",
        "The process at each layer [l] consists of two main parts:\n",
        "\n",
        "1. A linear step calculates the pre-activation value using the formula $Z^{[l]} = W^{[l]}A^{[l-1]} + b^{[l]}$.\n",
        "\n",
        "2. An activation step then applies an activation function g (either ReLU or Sigmoid) to get the final output for that layer: $A^{[l]} = g(Z^{[l]})$.\n",
        "\n",
        "This entire module will be constructed using several helper functions to keep the code organized, clear, and easy to reuse."
      ],
      "metadata": {
        "id": "ih9NtOHtiNb-"
      }
    },
    {
      "cell_type": "code",
      "source": [
        "# Forward Propagation Helper Functions\n",
        "\n",
        "def linear_forward(A_prev, W, b):\n",
        "    \"\"\"\n",
        "    Implements the linear part of a layer's forward propagation.\n",
        "\n",
        "    Arguments:\n",
        "    A_prev - activations from previous layer (or input data): (size of previous layer, number of examples)\n",
        "    W - weights matrix: numpy array of shape (size of current layer, size of previous layer)\n",
        "    b - bias vector: numpy array of shape (size of the current layer, 1)\n",
        "\n",
        "    Returns:\n",
        "    Z - the input of the activation function, also called pre-activation parameter\n",
        "    cache - a python tuple containing \"A_prev\", \"W\" and \"b\" ; stored for computing the backward pass efficiently\n",
        "    \"\"\"\n",
        "    Z = np.dot(W, A_prev) + b\n",
        "\n",
        "    assert(Z.shape == (W.shape[0], A_prev.shape[1]))\n",
        "    cache = (A_prev, W, b)\n",
        "\n",
        "    return Z, cache\n",
        "\n",
        "def linear_activation_forward(A_prev, W, b, activation):\n",
        "    \"\"\"\n",
        "    Implements the forward propagation for the LINEAR->ACTIVATION layer\n",
        "\n",
        "    Arguments:\n",
        "    A_prev - activations from previous layer (or input data): (size of previous layer, number of examples)\n",
        "    W - weights matrix: numpy array of shape (size of current layer, size of previous layer)\n",
        "    b - bias vector: numpy array of shape (size of the current layer, 1)\n",
        "    activation - the activation to be used in this layer, stored as a text string: \"sigmoid\" or \"relu\"\n",
        "\n",
        "    Returns:\n",
        "    A - the output of the activation function, also called the post-activation value\n",
        "    cache - a python tuple containing the \"linear_cache\" and \"activation_cache\";\n",
        "             stored for computing the backward pass efficiently\n",
        "    \"\"\"\n",
        "\n",
        "    if activation == \"sigmoid\":\n",
        "        Z, linear_cache = linear_forward(A_prev, W, b)\n",
        "        A, activation_cache = sigmoid(Z)\n",
        "\n",
        "    elif activation == \"relu\":\n",
        "        Z, linear_cache = linear_forward(A_prev, W, b)\n",
        "        A, activation_cache = relu(Z)\n",
        "\n",
        "    assert (A.shape == (W.shape[0], A_prev.shape[1]))\n",
        "    cache = (linear_cache, activation_cache)\n",
        "\n",
        "    return A, cache"
      ],
      "metadata": {
        "id": "g4-dRG6Dhnye"
      },
      "execution_count": null,
      "outputs": []
    },
    {
      "cell_type": "markdown",
      "source": [
        "# 3.5 The Full Forward Propagation Model\n",
        "We will now combine our helper functions into a single function, `L_model_forward`, that executes the complete forward pass. This function will take the input data `X` and our initialized `parameters` dictionary. It will loop through all the hidden layers using the ReLU activation and then execute the final output layer with the Sigmoid activation.\n",
        "\n",
        "Crucially, it will store the `cache` from each layer in a list. This list of caches will be the input for our backpropagation module later."
      ],
      "metadata": {
        "id": "ElJAwcdAi8bE"
      }
    },
    {
      "cell_type": "code",
      "source": [
        "# L-Layer Forward Propagation Model\n",
        "\n",
        "def L_model_forward(X, parameters):\n",
        "    \"\"\"\n",
        "    Implements forward propagation for the [LINEAR->RELU]*(L-1)->LINEAR->SIGMOID computation\n",
        "\n",
        "    Arguments:\n",
        "    X - data, numpy array of shape (input size, number of examples)\n",
        "    parameters -- output of initialize_parameters_deep()\n",
        "\n",
        "    Returns:\n",
        "    AL - last post-activation value (the model's prediction)\n",
        "    caches - list of caches containing every cache of linear_activation_forward()\n",
        "              (there are L-1 of them, indexed from 0 to L-1)\n",
        "    \"\"\"\n",
        "    caches = []\n",
        "    A = X\n",
        "    L = len(parameters) // 2                  # number of layers in the neural network\n",
        "\n",
        "    # Implement [LINEAR to RELU]*(L-1). Add \"cache\" to the \"caches\" list.\n",
        "    for l in range(1, L):\n",
        "        A_prev = A\n",
        "        A, cache = linear_activation_forward(A_prev,\n",
        "                                              parameters['W' + str(l)],\n",
        "                                              parameters['b' + str(l)],\n",
        "                                              activation=\"relu\")\n",
        "        caches.append(cache)\n",
        "\n",
        "    # Implement LINEAR to SIGMOID. Add \"cache\" to the \"caches\" list.\n",
        "    AL, cache = linear_activation_forward(A,\n",
        "                                          parameters['W' + str(L)],\n",
        "                                          parameters['b' + str(L)],\n",
        "                                          activation=\"sigmoid\")\n",
        "    caches.append(cache)\n",
        "\n",
        "    assert(AL.shape == (1, X.shape[1]))\n",
        "\n",
        "    return AL, caches"
      ],
      "metadata": {
        "id": "zCL0Tva7i0BI"
      },
      "execution_count": null,
      "outputs": []
    },
    {
      "cell_type": "markdown",
      "source": [
        "# 3.6 The Cost Function\n",
        "The cost function, also called the loss function, measures the difference between a model's prediction($\\hat{y}$) and the true label ($y$). For binary classification, the standard choice is the **Binary Cross-Entropy** function [3].\n",
        "\n",
        "This function computes the total cost, `J`, over all `m` training examples. A lower cost value means the model's predictions are closer to the actual labels. The formula is:\n",
        "\n",
        "$$J = -\\frac{1}{m} \\sum_{i=1}^{m} \\left[ y^{(i)}\\log(\\hat{y}^{(i)}) + (1-y^{(i)})\\log(1-\\hat{y}^{(i)}) \\right]$$\n",
        "\n",
        "This function will now be implemented based on the above formula."
      ],
      "metadata": {
        "id": "Ot6WEnI5j8MC"
      }
    },
    {
      "cell_type": "code",
      "source": [
        "# Computing the Cost\n",
        "\n",
        "def compute_cost(AL, Y):\n",
        "    \"\"\"\n",
        "    Implements the cost function defined by the formula above.\n",
        "\n",
        "    Arguments:\n",
        "    AL - probability vector corresponding to your label predictions, shape (1, number of examples)\n",
        "    Y - true \"label\" vector, shape (1, number of examples)\n",
        "\n",
        "    Returns:\n",
        "    cost - cross-entropy cost\n",
        "    \"\"\"\n",
        "    m = Y.shape[1]\n",
        "\n",
        "    # Compute loss from AL and Y.\n",
        "    # We add a small epsilon (1e-8) for numerical stability to avoid log(0).\n",
        "    cost = (-1/m) * np.sum(np.multiply(Y, np.log(AL + 1e-8)) + np.multiply(1-Y, np.log(1-AL + 1e-8)))\n",
        "\n",
        "    cost = np.squeeze(cost)      # To make sure the cost is just a number (e.g. 0.13)\n",
        "    assert(cost.shape == ())\n",
        "\n",
        "    return cost"
      ],
      "metadata": {
        "id": "GvlPy_dCjd6Z"
      },
      "execution_count": null,
      "outputs": []
    },
    {
      "cell_type": "markdown",
      "source": [
        "# 3.7 Backward Propagation\n",
        "Backpropagation is the algorithm that allows the network to learn [5]. It works by propagating the error from the final output layer backward through the network. At each layer, it calculates how much the layer's parameters (weights and biases) contributed to the overall error.\n",
        "\n",
        "The core of this process is the chain rule from calculus. This will be implemented in two main helper functions: one for the linear part of the backpropagation and one that combines it with the gradient of the activation function."
      ],
      "metadata": {
        "id": "hhu6S9ARlRIR"
      }
    },
    {
      "cell_type": "code",
      "source": [
        "# Backward Propagation Helper Functions\n",
        "\n",
        "def linear_backward(dZ, cache):\n",
        "    \"\"\"\n",
        "    Implements the linear portion of backward propagation for a single layer.\n",
        "\n",
        "    Arguments:\n",
        "    dZ - Gradient of the cost with respect to the linear output (of current layer l)\n",
        "    cache - tuple of values (A_prev, W, b) coming from the forward propagation in the current layer\n",
        "\n",
        "    Returns:\n",
        "    dA_prev - Gradient of the cost with respect to the activation of the previous layer (l-1)\n",
        "    dW - Gradient of the cost with respect to W (current layer l)\n",
        "    db - Gradient of the cost with respect to b (current layer l)\n",
        "    \"\"\"\n",
        "    A_prev, W, b = cache\n",
        "    m = A_prev.shape[1]\n",
        "\n",
        "    dW = (1/m) * np.dot(dZ, A_prev.T)\n",
        "    db = (1/m) * np.sum(dZ, axis=1, keepdims=True)\n",
        "    dA_prev = np.dot(W.T, dZ)\n",
        "\n",
        "    assert (dA_prev.shape == A_prev.shape)\n",
        "    assert (dW.shape == W.shape)\n",
        "    assert (db.shape == b.shape)\n",
        "\n",
        "    return dA_prev, dW, db\n",
        "\n",
        "def linear_activation_backward(dA, cache, activation):\n",
        "    \"\"\"\n",
        "    Implements the backward propagation for the LINEAR to ACTIVATION layer.\n",
        "\n",
        "    Arguments:\n",
        "    dA - post-activation gradient for current layer l\n",
        "    cache - tuple of values (linear_cache, activation_cache) we store for computing backward propagation efficiently\n",
        "    activation - the activation to be used in this layer, stored as a text string: \"sigmoid\" or \"relu\"\n",
        "\n",
        "    Returns:\n",
        "    dA_prev - Gradient of the cost with respect to the activation of the previous layer (l-1)\n",
        "    dW - Gradient of the cost with respect to W (current layer l)\n",
        "    db - Gradient of the cost with respect to b (current layer l)\n",
        "    \"\"\"\n",
        "\n",
        "    linear_cache, activation_cache = cache\n",
        "\n",
        "    if activation == \"relu\":\n",
        "        dZ = relu_backward(dA, activation_cache)\n",
        "        dA_prev, dW, db = linear_backward(dZ, linear_cache)\n",
        "\n",
        "    elif activation == \"sigmoid\":\n",
        "        dZ = sigmoid_backward(dA, activation_cache)\n",
        "        dA_prev, dW, db = linear_backward(dZ, linear_cache)\n",
        "\n",
        "    return dA_prev, dW, db"
      ],
      "metadata": {
        "id": "_J2sgc5YlEeZ"
      },
      "execution_count": null,
      "outputs": []
    },
    {
      "cell_type": "markdown",
      "source": [
        "# 3.8 The Full Backward Propagation Model\n",
        "The `L_model_backward` function is responsible for the entire backpropagation process. It uses the final prediction `AL`, the true labels `Y`, and the list of `caches` from the forward pass to compute the gradients.\n",
        "\n",
        "The process begins by calculating the initial gradient, `dAL`, which is the derivative of the cost function with respect to the final output. This gradient is then used to find the gradients for the final `LINEAR to SIGMOID` layer. Finally, the function loops backward through the hidden `LINEAR to RELU` layers, passing the calculated gradient from each layer to the one before it.\n",
        "\n",
        "All of the computed gradients (`dW[1]` ,  `db[1]`, and so on) are collected and stored in a dictionary called `grads`."
      ],
      "metadata": {
        "id": "HnsGeOTBmRvd"
      }
    },
    {
      "cell_type": "code",
      "source": [
        "# L-Layer Backward Propagation Model\n",
        "\n",
        "def L_model_backward(AL, Y, caches):\n",
        "    \"\"\"\n",
        "    Implements the backward propagation for the [LINEAR to RELU] * (L-1) to LINEAR to SIGMOID group\n",
        "\n",
        "    Arguments:\n",
        "    AL - probability vector, output of the forward propagation (L_model_forward())\n",
        "    Y - true \"label\" vector\n",
        "    caches - list of caches containing every cache of linear_activation_forward()\n",
        "\n",
        "    Returns:\n",
        "    grads - A dictionary with the gradients\n",
        "             grads[\"dA\" + str(l)] = ...\n",
        "             grads[\"dW\" + str(l)] = ...\n",
        "             grads[\"db\" + str(l)] = ...\n",
        "    \"\"\"\n",
        "    grads = {}\n",
        "    L = len(caches) # the number of layers\n",
        "    m = AL.shape[1]\n",
        "    Y = Y.reshape(AL.shape) # after this line, Y is the same shape as AL\n",
        "\n",
        "    # Initializing the backpropagation\n",
        "    # Derivative of the cost with respect to AL\n",
        "    dAL = - (np.divide(Y, AL + 1e-8) - np.divide(1 - Y, 1 - AL + 1e-8))\n",
        "\n",
        "    # Lth layer (SIGMOID to LINEAR) gradients.\n",
        "    current_cache = caches[L-1]\n",
        "    grads[\"dA\" + str(L-1)], grads[\"dW\" + str(L)], grads[\"db\" + str(L)] = linear_activation_backward(dAL, current_cache, activation=\"sigmoid\")\n",
        "\n",
        "    # Loop from l=L-2 to l=0\n",
        "    for l in reversed(range(L-1)):\n",
        "        # lth layer: (RELU to LINEAR) gradients.\n",
        "        current_cache = caches[l]\n",
        "        dA_prev_temp, dW_temp, db_temp = linear_activation_backward(grads[\"dA\" + str(l+1)], current_cache, activation=\"relu\")\n",
        "        grads[\"dA\" + str(l)] = dA_prev_temp\n",
        "        grads[\"dW\" + str(l + 1)] = dW_temp\n",
        "        grads[\"db\" + str(l + 1)] = db_temp\n",
        "\n",
        "    return grads"
      ],
      "metadata": {
        "id": "2ZF3qDl1l-hL"
      },
      "execution_count": null,
      "outputs": []
    },
    {
      "cell_type": "markdown",
      "source": [
        "# 3.9 Updating Parameters\n",
        "This is the step where the model actually learns. The gradients ( `dW`, `db`) calculated during backpropagation are used to update the model's parameters ( W, b).\n",
        "\n",
        "The update rule is straightforward: a small portion of the gradient is subtracted from its corresponding parameter. This process effectively nudges the parameters in the direction that minimizes the cost function, a process known as gradient descent [2]. The size of this nudge is controlled by the learning rate, a critical hyperparameter denoted by $\\alpha$.\n",
        "\n",
        "The specific update rules for each layer `[l]` are:\n",
        "\n",
        "$$ W^{[l]} = W^{[l]} - \\alpha \\ dW^{[l]} $$\n",
        "$$ b^{[l]} = b^{[l]} - \\alpha \\ db^{[l]} $$"
      ],
      "metadata": {
        "id": "tish15mwnswB"
      }
    },
    {
      "cell_type": "code",
      "source": [
        "# Updating the Parameters\n",
        "\n",
        "def update_parameters(parameters, grads, learning_rate):\n",
        "    \"\"\"\n",
        "    Updates parameters using gradient descent.\n",
        "\n",
        "    Arguments:\n",
        "    parameters - python dictionary containing your parameters\n",
        "    grads - python dictionary containing your gradients, output of L_model_backward\n",
        "\n",
        "    Returns:\n",
        "    parameters - python dictionary containing your updated parameters\n",
        "                  parameters[\"W\" + str(l)] = ...\n",
        "                  parameters[\"b\" + str(l)] = ...\n",
        "    \"\"\"\n",
        "\n",
        "    L = len(parameters) // 2 # number of layers in the neural network\n",
        "\n",
        "    # Update rule for each parameter.\n",
        "    for l in range(L):\n",
        "        parameters[\"W\" + str(l+1)] = parameters[\"W\" + str(l+1)] - learning_rate * grads[\"dW\" + str(l+1)]\n",
        "        parameters[\"b\" + str(l+1)] = parameters[\"b\" + str(l+1)] - learning_rate * grads[\"db\" + str(l+1)]\n",
        "\n",
        "    return parameters"
      ],
      "metadata": {
        "id": "eg8SFVbznfQW"
      },
      "execution_count": null,
      "outputs": []
    },
    {
      "cell_type": "markdown",
      "source": [
        "# 3.10 Assembling the Full Model\n",
        "Next thing will be to combine all the helper functions into one main function called `L_layer_model`. This function will encapsulate the entire training process. It will:\n",
        "\n",
        "* Initialize the parameters.\n",
        "\n",
        "* Loop for a specified number of iterations (epochs).\n",
        "\n",
        "* In each iteration, it will perform forward propagation, compute the cost, perform backward propagation, and update the parameters.\n",
        "\n",
        "* It will also track the cost over time so we can plot a learning curve to visualize the training progress."
      ],
      "metadata": {
        "id": "Cx1ane63o7VA"
      }
    },
    {
      "cell_type": "code",
      "source": [
        "# The L-Layer Model Training Function\n",
        "\n",
        "def L_layer_model(X, Y, layers_dims, learning_rate=0.0075, num_iterations=3000, print_cost=False):\n",
        "    \"\"\"\n",
        "    Implements a L-layer neural network: [LINEAR to RELU]*(L-1) to LINEAR to SIGMOID.\n",
        "\n",
        "    Arguments:\n",
        "    X -- data, numpy array of shape (number of features, number of examples)\n",
        "    Y -- true \"label\" vector, of shape (1, number of examples)\n",
        "    layers_dims -- list containing the input size and each layer size\n",
        "    learning_rate -- learning rate of the gradient descent update rule\n",
        "    num_iterations -- number of iterations of the optimization loop\n",
        "    print_cost -- if True, it prints the cost every 100 iterations\n",
        "\n",
        "    Returns:\n",
        "    parameters -- parameters learnt by the model. They can then be used to predict.\n",
        "    costs -- list of costs recorded during training\n",
        "    \"\"\"\n",
        "    np.random.seed(1)\n",
        "    costs = []           # keep track of cost\n",
        "\n",
        "    # Parameters initialization.\n",
        "    parameters = initialize_parameters_deep(layers_dims)\n",
        "\n",
        "    # Loop (gradient descent)\n",
        "    # Loop (gradient descent)\n",
        "    for i in range(0, num_iterations):\n",
        "\n",
        "        # Forward propagation: [LINEAR to RELU]*(L-1) to LINEAR to SIGMOID.\n",
        "        AL, caches = L_model_forward(X, parameters)\n",
        "\n",
        "        # Compute cost.\n",
        "        cost = compute_cost(AL, Y)\n",
        "\n",
        "        # Backward propagation.\n",
        "        grads = L_model_backward(AL, Y, caches)\n",
        "\n",
        "        # Update parameters.\n",
        "        parameters = update_parameters(parameters, grads, learning_rate)\n",
        "\n",
        "        # Print the cost every 100 training example\n",
        "        if print_cost and i % 100 == 0:\n",
        "            print (\"Cost after iteration %i: %f\" %(i, cost))\n",
        "        if i % 100 == 0:\n",
        "            costs.append(cost)\n",
        "\n",
        "    return parameters, costs"
      ],
      "metadata": {
        "id": "9vzuCINCojRP"
      },
      "execution_count": null,
      "outputs": []
    },
    {
      "cell_type": "markdown",
      "source": [
        "# 3.11 Making Predictions\n",
        "Now that there is a function to train the model and learn the optimal parameters, it is necessary to make a way that will make predictions on unseen data (like the test set).\n",
        "\n",
        "The predict function will take the learned parameters and an input dataset, X. It will perform a full forward pass to calculate the output probabilities. Then, it will convert these probabilities into binary predictions (0 or 1) by applying a 0.5 threshold. If the output probability is greater than 0.5, it is classified as 1 (Presence); otherwise, it's 0 (Absence)."
      ],
      "metadata": {
        "id": "1tlbrJI1sRBp"
      }
    },
    {
      "cell_type": "code",
      "source": [
        "# The Predict Function\n",
        "\n",
        "def predict(X, y, parameters):\n",
        "    \"\"\"\n",
        "    This function is used to predict the results of a L-layer neural network.\n",
        "\n",
        "    Arguments:\n",
        "    X - data set of examples you would like to label\n",
        "    y - the true labels for the data X\n",
        "    parameters - parameters of the trained model\n",
        "\n",
        "    Returns:\n",
        "    p - predictions for the given dataset X\n",
        "    \"\"\"\n",
        "\n",
        "    m = X.shape[1]\n",
        "    n = len(parameters) // 2 # number of layers in the neural network\n",
        "    p = np.zeros((1,m))\n",
        "\n",
        "    # Forward propagation\n",
        "    probas, caches = L_model_forward(X, parameters)\n",
        "\n",
        "\n",
        "    # convert probas to 0/1 predictions\n",
        "    for i in range(0, probas.shape[1]):\n",
        "        if probas[0,i] > 0.5:\n",
        "            p[0,i] = 1\n",
        "        else:\n",
        "            p[0,i] = 0\n",
        "\n",
        "    #print results\n",
        "    print(\"Accuracy: \"  + str(np.sum((p == y)/m)))\n",
        "\n",
        "    return p"
      ],
      "metadata": {
        "id": "sOnHEBtasP5U"
      },
      "execution_count": null,
      "outputs": []
    },
    {
      "cell_type": "markdown",
      "source": [
        "# 3.12 Training the Neural Network Model\n",
        "The  `L_layer_model` will now be trained using the prepared training data, `X_train_scaled` and `y_train`. The network architecture and key training hyperparameters are defined below.\n",
        "\n",
        "* **Architecture**: `[16, 64, 32, 1]`, as previously justified.\n",
        "* **Iterations**: The model will train for **2500 iterations**, which should be sufficient for the cost to converge.\n",
        "* **Learning Rate**: A standard learning rate of **0.0075** will be used as a starting point.\n",
        "\n",
        "After training, the cost will be plotted over the iterations. A steadily decreasing cost curve is the primary indicator that the model is learning successfully."
      ],
      "metadata": {
        "id": "iZE7NuqZubCH"
      }
    },
    {
      "cell_type": "code",
      "source": [
        "# Train the Model and Plot Cost\n",
        "\n",
        "# Prepare Data for NumPy Model\n",
        "\"\"\"functions expect NumPy arrays with shape (features, examples)\n",
        "The pandas DataFrames will be converted to NumPy and transposed (.T)\"\"\"\n",
        "\n",
        "X_train_numpy = X_train_scaled.T\n",
        "y_train_numpy = y_train.values.reshape(1, -1)\n",
        "\n",
        "# 2. Define Model Architecture and Hyperparameters\n",
        "layers_dims = [X_train_numpy.shape[0], 64, 32, 1] # 16 to 64 to 32 to 1\n",
        "learning_rate = 0.0075\n",
        "num_iterations = 2500\n",
        "\n",
        "# 3. Train the Model\n",
        "parameters, costs = L_layer_model(X_train_numpy, y_train_numpy, layers_dims,\n",
        "                                  learning_rate, num_iterations, print_cost=True)\n",
        "\n",
        "# 4. Plot the Cost Curve\n",
        "plt.figure(figsize=(8, 5))\n",
        "plt.plot(np.squeeze(costs))\n",
        "plt.ylabel('Cost')\n",
        "plt.xlabel('Iterations (per hundreds)')\n",
        "plt.title('Learning Rate = ' + str(learning_rate))\n",
        "plt.show()"
      ],
      "metadata": {
        "colab": {
          "base_uri": "https://localhost:8080/",
          "height": 930
        },
        "id": "_OW-9YS2tIb1",
        "outputId": "a8d1a6c1-3bba-4b34-8e72-3e8ad190bea6"
      },
      "execution_count": null,
      "outputs": [
        {
          "output_type": "stream",
          "name": "stdout",
          "text": [
            "Cost after iteration 0: 0.693147\n",
            "Cost after iteration 100: 0.653964\n",
            "Cost after iteration 200: 0.626962\n",
            "Cost after iteration 300: 0.608247\n",
            "Cost after iteration 400: 0.595177\n",
            "Cost after iteration 500: 0.585973\n",
            "Cost after iteration 600: 0.579439\n",
            "Cost after iteration 700: 0.574766\n",
            "Cost after iteration 800: 0.571399\n",
            "Cost after iteration 900: 0.568959\n",
            "Cost after iteration 1000: 0.567180\n",
            "Cost after iteration 1100: 0.565876\n",
            "Cost after iteration 1200: 0.564915\n",
            "Cost after iteration 1300: 0.564203\n",
            "Cost after iteration 1400: 0.563672\n",
            "Cost after iteration 1500: 0.563274\n",
            "Cost after iteration 1600: 0.562973\n",
            "Cost after iteration 1700: 0.562743\n",
            "Cost after iteration 1800: 0.562565\n",
            "Cost after iteration 1900: 0.562425\n",
            "Cost after iteration 2000: 0.562313\n",
            "Cost after iteration 2100: 0.562221\n",
            "Cost after iteration 2200: 0.562142\n",
            "Cost after iteration 2300: 0.562072\n",
            "Cost after iteration 2400: 0.562009\n"
          ]
        },
        {
          "output_type": "display_data",
          "data": {
            "text/plain": [
              "<Figure size 800x500 with 1 Axes>"
            ],
            "image/png": "[encoded data removed]"
          },
          "metadata": {}
        }
      ]
    },
    {
      "cell_type": "markdown",
      "source": [
        "The plot of the cost function provides clear evidence of successful training. The cost consistently decreases over the 2,500 iterations, visually confirming that the backpropagation and gradient descent algorithms are working correctly to minimize error.\n",
        "\n",
        "The curve's steep initial drop followed by a gradual flattening indicates good convergence, where the model learned quickly before settling on a stable solution. The smooth decline, free of major spikes, also suggests that the chosen learning rate of `0.0075` was effective."
      ],
      "metadata": {
        "id": "vz1s6nbd0CHx"
      }
    },
    {
      "cell_type": "markdown",
      "source": [
        "# 3.13 Evaluating the Scratch Model\n",
        "With the model trained and its parameters learned, the next thing is to evaluate its performance on the unseen test data. The predict function will be used to generate predictions and then calculate the full suite of metrics: **Accuracy**, **Precision**, **Recall**, **F1-score**, and the **Confusion Matrix**, to see how it compares to the classical models."
      ],
      "metadata": {
        "id": "r9KO0DEM0YtY"
      }
    },
    {
      "cell_type": "code",
      "source": [
        "# Evaluate the Model on the Test Set\n",
        "\n",
        "# Prepare Test Data\n",
        "X_test_numpy = X_test_scaled.T\n",
        "y_test_numpy = y_test.values.reshape(1, -1)\n",
        "\n",
        "# Make Predictions\n",
        "# The predict function already prints the accuracy\n",
        "predictions = predict(X_test_numpy, y_test_numpy, parameters)\n",
        "\n",
        "# Print Classification Report\n",
        "print(\"\\n--- Neural Network Evaluation ---\")\n",
        "# We need to transpose the prediction and test arrays to use sklearn's report\n",
        "print(classification_report(y_test_numpy.T, predictions.T, target_names=['Absence (0)', 'Presence (1)'], zero_division=0))\n",
        "\n",
        "# Plot Confusion Matrix\n",
        "cm_nn = confusion_matrix(y_test_numpy.T, predictions.T)\n",
        "plt.figure(figsize=(6, 5))\n",
        "sns.heatmap(cm_nn, annot=True, fmt='d', cmap='Purples')\n",
        "plt.title('Neural Network Confusion Matrix')\n",
        "plt.xlabel('Predicted')\n",
        "plt.ylabel('Actual')\n",
        "plt.show()"
      ],
      "metadata": {
        "colab": {
          "base_uri": "https://localhost:8080/",
          "height": 704
        },
        "id": "aVrmCpJtvpe7",
        "outputId": "bd5096c0-881e-4b58-9b9d-6be322807942"
      },
      "execution_count": null,
      "outputs": [
        {
          "output_type": "stream",
          "name": "stdout",
          "text": [
            "Accuracy: 0.75\n",
            "\n",
            "--- Neural Network Evaluation ---\n",
            "              precision    recall  f1-score   support\n",
            "\n",
            " Absence (0)       0.00      0.00      0.00       400\n",
            "Presence (1)       0.75      1.00      0.86      1200\n",
            "\n",
            "    accuracy                           0.75      1600\n",
            "   macro avg       0.38      0.50      0.43      1600\n",
            "weighted avg       0.56      0.75      0.64      1600\n",
            "\n"
          ]
        },
        {
          "output_type": "display_data",
          "data": {
            "text/plain": [
              "<Figure size 600x500 with 2 Axes>"
            ],
            "image/png": "[encoded data removed]"
          },
          "metadata": {}
        }
      ]
    },
    {
      "cell_type": "markdown",
      "source": [
        "## 3.14 Interpretation of Scratch Model Performance\n",
        "The from-scratch neural network shows an important result. While it achieved a 75% accuracy, this number is misleading.\n",
        "\n",
        "The model's classification report reveals a major problem: it completely failed to identify any cases from the smaller \"Absence\" class, resulting in a recall score of 0.00 for that class. This is a common issue known as majority class collapse [6], which happens with imbalanced data. The network found the easiest way to lower its error was to simply predict the majority \"Presence\" class every single time.\n",
        "\n",
        "This outcome is very different from the classical models. The scikit-learn models had a simple class_weight='balanced' setting to prevent this bias, but the from-scratch model did not have such a feature. This shows that even a correctly built learning algorithm can fail if the training data is not handled properly. It highlights how important data-focused techniques, like balancing, are for creating a model that actually works."
      ],
      "metadata": {
        "id": "-gTi6lMt_-FB"
      }
    },
    {
      "cell_type": "markdown",
      "source": [
        "# Part 4: Comparison & Discussion\n",
        "With all models now trained and evaluated, we can compare their performance and discuss the broader implications of our findings."
      ],
      "metadata": {
        "id": "PFyFzI_1DyW3"
      }
    },
    {
      "cell_type": "markdown",
      "metadata": {
        "id": "80617b31"
      },
      "source": [
        "## 4.1 Results Summary\n",
        "The table below summarizes the performance of our best classical models against the from-scratch neural network on the unseen test set. We are focusing on the Baseline Logistic Regression (as it was clinically safer) and the Balanced Random Forest (the best overall classical performer).\n",
        "\n",
        "**Table**\n",
        "\n",
        "| Model                     | Accuracy | Precision (Absence 0) | Recall (Absence 0) | F1-score (Absence 0) | Precision (Presence 1) | Recall (Presence 1) | F1-score (Presence 1) |\n",
        "|---------------------------|----------|------------------------|---------------------|-----------------------|-------------------------|----------------------|------------------------|\n",
        "| Baseline Log. Regression  | 0.81     | 0.93                   | 0.24                | 0.38                  | 0.80                    | 0.99                 | 0.89                   |\n",
        "| **Balanced Random Forest**| **1.00** | **1.00**               | **0.99**            | **0.99**              | **1.00**                | **1.00**             | **1.00**               |\n",
        "| From-Scratch NN           | 0.75     | 0.00                   | 0.00                | 0.00                  | 0.75                    | 1.00                 | 0.86                   |\n",
        "\n"
      ]
    },
    {
      "cell_type": "markdown",
      "source": [
        "## 4.2 Discussion\n",
        "### 4.2.1 Performance Comparison\n",
        " The Balanced Random Forest was the clear winner, achieving near-perfect separation of the classes. Its ability to handle non-linear data allowed it to far surpass the linear Logistic Regression model. The from-scratch Neural Network performed admirably, achieving a high accuracy and balanced F1-scores, demonstrating that the implementation was successful. However, it did not match the performance of the highly optimized, library-based Random Forest.\n"
      ],
      "metadata": {
        "id": "bcjUUu6eG1jW"
      }
    },
    {
      "cell_type": "markdown",
      "metadata": {
        "id": "9832b1f1"
      },
      "source": [
        "### 4.2.2 Strengths and Weaknesses:\n",
        "\n",
        "Classical Models: The main strength of the scikit-learn models was their ease of implementation and the simplicity of applying techniques like class_weight='balanced'. Their weakness, particularly for Logistic Regression, was the struggle to model complex relationships.\n",
        "\n",
        "Neural Network: The primary strength of the from-scratch approach was the deep, fundamental understanding it provided of the learning process. Its main weakness was the implementation complexity and the manual effort required for hyperparameter tuning (learning rate, number of layers/neurons)."
      ]
    },
    {
      "cell_type": "markdown",
      "source": [
        "### 4.2.3 Reasons for Performance Differences\n",
        " The Random Forest's superior performance stems from its ensemble nature. By combining hundreds of decision trees, it can create highly complex and robust decision boundaries. The feed-forward neural network, while powerful, was relatively simple in its architecture. A more complex architecture or more extensive tuning could potentially close the performance gap.\n"
      ],
      "metadata": {
        "id": "20Kn0EVyJiBX"
      }
    },
    {
      "cell_type": "markdown",
      "source": [
        "### 4.2.4 Evidence of my Understanding of Both Perspectives\n",
        "\n",
        "Working through this project, building a neural network from scratch alongside using scikit-learn, has really shown me what's happening under the hood of these models.\n",
        "\n",
        "Using scikit-learn for the Logistic Regression and Random Forest was super quick. It felt like using a ready-made tool; I could easily try different models and settings, like `class_weight='balanced'`, to see how they impacted the results on our imbalanced data. This is clearly the way to go when you need to test ideas fast or use standard models in a real job.\n",
        "\n",
        "Building the neural network with just NumPy, however, was a completely different experience. It was a lot harder work, coding each piece, from the activation functions to figuring out how to update the weights during backpropagation. But going through each step manually, seeing the cost go down iteration by iteration, made the learning process click for me. It showed me *exactly* how the network adjusts itself based on errors. This from-scratch approach is powerful if you need to build something totally new or really understand every single part of your model, maybe for research.\n",
        "\n",
        "This project taught me that while libraries like scikit-learn are essential tools for practical work because they're fast and reliable, truly understanding machine learning means getting into the details, even if it's just once, by building something from the ground up. Both methods have their place, and knowing when to use which one comes from experiences like this one."
      ],
      "metadata": {
        "id": "apt7vr3fJnE9"
      }
    },
    {
      "cell_type": "markdown",
      "source": [
        "# References\n",
        "\n",
        "[1] N. . and N. BANU P K. \"BEED: Bangalore EEG Epilepsy Dataset ,\" UCI Machine Learning Repository, 2024. [Online]. Available: https://doi.org/10.24432/C5K33B.\n",
        "\n",
        "[2] C. M. Bishop, Pattern Recognition and Machine Learning. New York: Springer, 2006.\n",
        "\n",
        "[3] I. Goodfellow, Y. Bengio, and A. Courville, Deep Learning. Cambridge, MA, USA: MIT Press, 2016.\n",
        "\n",
        "[4] L. Breiman, \"Random Forests,\" Machine Learning, vol. 45, no. 1, pp. 5-32, Oct. 2001.\n",
        "\n",
        "[5] D. E. Rumelhart, G. E. Hinton, and R. J. Williams, \"Learning representations by back-propagating errors,\" Nature, vol. 323, no. 6088, pp. 533-536, Oct. 1986.\n",
        "\n",
        "[6] T. Hastie, R. Tibshirani, and J. Friedman, The Elements of Statistical Learning: Data Mining, Inference, and Prediction, 2nd ed. New York: Springer, 2009.\n"
      ],
      "metadata": {
        "id": "IFmeslM-MspG"
      }
    }
  ]
}